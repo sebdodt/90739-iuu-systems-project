{
 "cells": [
  {
   "cell_type": "markdown",
   "metadata": {},
   "source": [
    "# Global Fishing Watch Exploratory Data Analysis\n",
    "\n",
    "Questions to answer in this script:\n",
    "\n",
    "Unit of analysis: Ship or ship-year or ship-cruise?\n",
    "- How long is a cruise for a reefer? \n",
    "- Does behaviour change over time?\n",
    "\n",
    "Fishing vessels:\n",
    "- Do fishing vessels that have met a bad reefer always meet with bad reefers? --> Can we partition fishing boats in good and bad? \n",
    "- How do bad fishing boats differ from good fishing boats? What are characteristics of bad fishers? \n",
    "    - flags\n",
    "    - size\n",
    "    - time at sea\n",
    "    - age"
   ]
  },
  {
   "cell_type": "code",
   "execution_count": 1,
   "metadata": {},
   "outputs": [],
   "source": [
    "import pandas as pd\n",
    "import seaborn as sns\n",
    "import matplotlib.pyplot as plt"
   ]
  },
  {
   "cell_type": "markdown",
   "metadata": {},
   "source": [
    "Importing data "
   ]
  },
  {
   "cell_type": "code",
   "execution_count": 9,
   "metadata": {},
   "outputs": [],
   "source": [
    "def import_data():\n",
    "    path = 'port_evaluation/data/xlsx/gfw_data-v2.xlsx'\n",
    "    xls = pd.ExcelFile(path)\n",
    "    dfList = []\n",
    "    for sheet in ['carriers', 'encounter-v2', 'loitering-v2', 'carrier_port_visit-v2']:\n",
    "        dfList.append(pd.read_excel(path, sheet_name=sheet))\n",
    "    return dfList"
   ]
  },
  {
   "cell_type": "code",
   "execution_count": null,
   "metadata": {},
   "outputs": [],
   "source": [
    "dfList = import_data()\n",
    "port_visits = dfList[[3]]"
   ]
  },
  {
   "cell_type": "code",
   "execution_count": null,
   "metadata": {},
   "outputs": [],
   "source": [
    "port_visits.groupby('vessel.mmsi')['end']"
   ]
  }
 ],
 "metadata": {
  "kernelspec": {
   "display_name": "Python 3.10.6 ('capstoneenv')",
   "language": "python",
   "name": "python3"
  },
  "language_info": {
   "codemirror_mode": {
    "name": "ipython",
    "version": 3
   },
   "file_extension": ".py",
   "mimetype": "text/x-python",
   "name": "python",
   "nbconvert_exporter": "python",
   "pygments_lexer": "ipython3",
   "version": "3.10.6"
  },
  "orig_nbformat": 4,
  "vscode": {
   "interpreter": {
    "hash": "fed43211bc253efdb5d7fa0232daae4698b2ceb3dad0e0df42312da65a5331fe"
   }
  }
 },
 "nbformat": 4,
 "nbformat_minor": 2
}
