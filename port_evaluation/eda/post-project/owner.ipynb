{
 "cells": [
  {
   "cell_type": "code",
   "execution_count": 2,
   "metadata": {},
   "outputs": [],
   "source": [
    "import pandas as pd\n",
    "import numpy as np"
   ]
  },
  {
   "cell_type": "code",
   "execution_count": 5,
   "metadata": {},
   "outputs": [
    {
     "data": {
      "text/html": [
       "<div>\n",
       "<style scoped>\n",
       "    .dataframe tbody tr th:only-of-type {\n",
       "        vertical-align: middle;\n",
       "    }\n",
       "\n",
       "    .dataframe tbody tr th {\n",
       "        vertical-align: top;\n",
       "    }\n",
       "\n",
       "    .dataframe thead th {\n",
       "        text-align: right;\n",
       "    }\n",
       "</style>\n",
       "<table border=\"1\" class=\"dataframe\">\n",
       "  <thead>\n",
       "    <tr style=\"text-align: right;\">\n",
       "      <th></th>\n",
       "      <th>Registered Owner</th>\n",
       "      <th>loitering</th>\n",
       "      <th>mmsi</th>\n",
       "    </tr>\n",
       "  </thead>\n",
       "  <tbody>\n",
       "    <tr>\n",
       "      <th>5</th>\n",
       "      <td>Wei Fong Shipping Co Ltd</td>\n",
       "      <td>1120</td>\n",
       "      <td>4</td>\n",
       "    </tr>\n",
       "    <tr>\n",
       "      <th>11</th>\n",
       "      <td>Pingtairong Ocean Fishery</td>\n",
       "      <td>764</td>\n",
       "      <td>2</td>\n",
       "    </tr>\n",
       "    <tr>\n",
       "      <th>15</th>\n",
       "      <td>Zhoushan Ningtai Ocean Fish</td>\n",
       "      <td>688</td>\n",
       "      <td>5</td>\n",
       "    </tr>\n",
       "    <tr>\n",
       "      <th>29</th>\n",
       "      <td>Pingtan Marine Enterprise Ltd</td>\n",
       "      <td>371</td>\n",
       "      <td>3</td>\n",
       "    </tr>\n",
       "    <tr>\n",
       "      <th>31</th>\n",
       "      <td>Fujian Gangshun Pelagi</td>\n",
       "      <td>321</td>\n",
       "      <td>3</td>\n",
       "    </tr>\n",
       "    <tr>\n",
       "      <th>38</th>\n",
       "      <td>Zhoushan Zhongju Ocean</td>\n",
       "      <td>233</td>\n",
       "      <td>1</td>\n",
       "    </tr>\n",
       "    <tr>\n",
       "      <th>40</th>\n",
       "      <td>Rongcheng Marine Fishery Co</td>\n",
       "      <td>222</td>\n",
       "      <td>4</td>\n",
       "    </tr>\n",
       "    <tr>\n",
       "      <th>43</th>\n",
       "      <td>Rongcheng East China Fisheries</td>\n",
       "      <td>201</td>\n",
       "      <td>2</td>\n",
       "    </tr>\n",
       "    <tr>\n",
       "      <th>45</th>\n",
       "      <td>Zhoushan Haili Ocean Fisheries</td>\n",
       "      <td>197</td>\n",
       "      <td>3</td>\n",
       "    </tr>\n",
       "  </tbody>\n",
       "</table>\n",
       "</div>"
      ],
      "text/plain": [
       "                  Registered Owner  loitering  mmsi\n",
       "5         Wei Fong Shipping Co Ltd       1120     4\n",
       "11       Pingtairong Ocean Fishery        764     2\n",
       "15     Zhoushan Ningtai Ocean Fish        688     5\n",
       "29   Pingtan Marine Enterprise Ltd        371     3\n",
       "31          Fujian Gangshun Pelagi        321     3\n",
       "38          Zhoushan Zhongju Ocean        233     1\n",
       "40     Rongcheng Marine Fishery Co        222     4\n",
       "43  Rongcheng East China Fisheries        201     2\n",
       "45  Zhoushan Haili Ocean Fisheries        197     3"
      ]
     },
     "execution_count": 5,
     "metadata": {},
     "output_type": "execute_result"
    }
   ],
   "source": [
    "df = pd.read_csv('/Users/sebastiandodt/Downloads/final table (1).csv')\n",
    "df1 = df.groupby(['Registered Owner'])['loitering'].sum().reset_index().sort_values('loitering', ascending=False)\n",
    "df2 = df.groupby(['Registered Owner'])['mmsi'].nunique().reset_index().sort_values('mmsi', ascending=False)\n",
    "df3 = df1.merge(df2, on='Registered Owner', how='left').head(50)\n",
    "\n",
    "chinese = [\n",
    "    'China National Fisheries Corporation',\n",
    "    'Wei Fong Shipping Co Ltd',\n",
    "    'Pingtairong Ocean Fishery',\n",
    "    'Zhoushan Ningtai Ocean Fish',\n",
    "    'Pingtan Marine Enterprise Ltd',\n",
    "    'Fujian Gangshun Pelagi',\n",
    "    'Zhoushan Zhongju Ocean',\n",
    "    'Rongcheng Marine Fishery Co',\n",
    "    'Rongcheng East China Fisheries',\n",
    "    'Zhoushan Haili Ocean Fisheries'\n",
    "    ]\n",
    "df3.loc[df3['Registered Owner'].isin(chinese),:]"
   ]
  },
  {
   "cell_type": "code",
   "execution_count": null,
   "metadata": {},
   "outputs": [],
   "source": []
  }
 ],
 "metadata": {
  "kernelspec": {
   "display_name": "capstoneenv",
   "language": "python",
   "name": "python3"
  },
  "language_info": {
   "codemirror_mode": {
    "name": "ipython",
    "version": 3
   },
   "file_extension": ".py",
   "mimetype": "text/x-python",
   "name": "python",
   "nbconvert_exporter": "python",
   "pygments_lexer": "ipython3",
   "version": "3.10.6"
  },
  "orig_nbformat": 4,
  "vscode": {
   "interpreter": {
    "hash": "fed43211bc253efdb5d7fa0232daae4698b2ceb3dad0e0df42312da65a5331fe"
   }
  }
 },
 "nbformat": 4,
 "nbformat_minor": 2
}
