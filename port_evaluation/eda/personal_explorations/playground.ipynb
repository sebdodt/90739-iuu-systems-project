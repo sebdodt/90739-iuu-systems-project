{
 "cells": [
  {
   "cell_type": "code",
   "execution_count": 1,
   "metadata": {},
   "outputs": [],
   "source": [
    "import pandas as pd\n",
    "import numpy as np"
   ]
  },
  {
   "cell_type": "code",
   "execution_count": 8,
   "metadata": {},
   "outputs": [],
   "source": [
    "visited = dict()\n",
    "\n",
    "def tree_traversal(n_draws, left_in_bag, m, best_min): \n",
    "    n_unique = len(set(left_in_bag))\n",
    "\n",
    "    if n_draws >= m:\n",
    "        return n_unique\n",
    "    \n",
    "    if best_min <= n_unique - (m - n_draws): \n",
    "        return n_unique\n",
    "        ## this is to improve computational complexity by reducing the search to branches where an optimal solution is possible\n",
    "\n",
    "    else:\n",
    "        best_min = n_unique\n",
    "        vals = []\n",
    "        if str(left_in_bag) in visited.keys():\n",
    "            return visited[str(left_in_bag)]\n",
    "        else:\n",
    "            for i in range(len(left_in_bag)):\n",
    "                left = left_in_bag.copy()\n",
    "                left.pop(i)\n",
    "                vals.append(tree_traversal(n_draws+1, left, m, best_min))\n",
    "            visited[str(left_in_bag)] = min(vals)\n",
    "            return min(vals)\n",
    "\n",
    "\n",
    "\n",
    "def deleteProducts(ids, m):\n",
    "\n",
    "    val = tree_traversal(0, ids, m, len(ids))\n",
    "\n",
    "    return val"
   ]
  },
  {
   "cell_type": "code",
   "execution_count": 9,
   "metadata": {},
   "outputs": [
    {
     "data": {
      "text/plain": [
       "1"
      ]
     },
     "execution_count": 9,
     "metadata": {},
     "output_type": "execute_result"
    }
   ],
   "source": [
    "deleteProducts([1,2,2,2,2,3,4], 3)"
   ]
  },
  {
   "cell_type": "code",
   "execution_count": 5,
   "metadata": {},
   "outputs": [
    {
     "data": {
      "text/plain": [
       "'[1, 2, 3]'"
      ]
     },
     "execution_count": 5,
     "metadata": {},
     "output_type": "execute_result"
    }
   ],
   "source": [
    "str([1,2,3])"
   ]
  },
  {
   "cell_type": "code",
   "execution_count": 25,
   "metadata": {},
   "outputs": [],
   "source": [
    "def is_palindrome(s):\n",
    "    if s == s[::-1]:\n",
    "        return True\n",
    "\n",
    "    else:\n",
    "        return False\n",
    "\n",
    "\n",
    "def add_letter(s, depth, max_depth, best_val):\n",
    "\n",
    "    if is_palindrome(s):\n",
    "        best_val = depth\n",
    "        return depth\n",
    "    \n",
    "    elif max_depth == depth:\n",
    "        return max_depth\n",
    "\n",
    "    elif best_val <= depth:\n",
    "        return best_val\n",
    "\n",
    "    else:\n",
    "        orig = s\n",
    "        vals = []\n",
    "        for letter in orig:\n",
    "            for index in range(len(orig) + 1):\n",
    "                s = orig[:index] + letter + orig[index:]\n",
    "                vals.append(add_letter(s, depth+1, max_depth, best_val))\n",
    "        return min(vals)\n",
    "\n",
    "def shortestPalindrome(s):\n",
    "    max_depth = len(s)-1\n",
    "    best_val = max_depth\n",
    "    return add_letter(s, 0, max_depth, best_val)"
   ]
  },
  {
   "cell_type": "code",
   "execution_count": 3,
   "metadata": {},
   "outputs": [
    {
     "ename": "NameError",
     "evalue": "name 'shortestPalindrome' is not defined",
     "output_type": "error",
     "traceback": [
      "\u001b[0;31m---------------------------------------------------------------------------\u001b[0m",
      "\u001b[0;31mNameError\u001b[0m                                 Traceback (most recent call last)",
      "Cell \u001b[0;32mIn [3], line 1\u001b[0m\n\u001b[0;32m----> 1\u001b[0m shortestPalindrome(\u001b[39m\"\u001b[39m\u001b[39mhello\u001b[39m\u001b[39m\"\u001b[39m)\n",
      "\u001b[0;31mNameError\u001b[0m: name 'shortestPalindrome' is not defined"
     ]
    }
   ],
   "source": [
    "\n",
    "shortestPalindrome(\"test\")"
   ]
  },
  {
   "cell_type": "code",
   "execution_count": 60,
   "metadata": {},
   "outputs": [
    {
     "name": "stdout",
     "output_type": "stream",
     "text": [
      "dlroW olleH\n"
     ]
    }
   ],
   "source": [
    "txt = \"Hello World\"[::-1]\n",
    "print(txt)"
   ]
  },
  {
   "cell_type": "code",
   "execution_count": 61,
   "metadata": {},
   "outputs": [
    {
     "name": "stdout",
     "output_type": "stream",
     "text": [
      "s\n",
      "t\n",
      "r\n",
      "i\n",
      "n\n",
      "g\n"
     ]
    }
   ],
   "source": [
    "s = \"string\"\n",
    "for i in s:\n",
    "    print(i)"
   ]
  },
  {
   "cell_type": "code",
   "execution_count": 65,
   "metadata": {},
   "outputs": [
    {
     "data": {
      "text/plain": [
       "'testl'"
      ]
     },
     "execution_count": 65,
     "metadata": {},
     "output_type": "execute_result"
    }
   ],
   "source": [
    "string = \"test\"\n",
    "string[:4] + 'l' + string[4:]"
   ]
  },
  {
   "cell_type": "code",
   "execution_count": 66,
   "metadata": {},
   "outputs": [
    {
     "data": {
      "text/plain": [
       "4"
      ]
     },
     "execution_count": 66,
     "metadata": {},
     "output_type": "execute_result"
    }
   ],
   "source": [
    "len(string)"
   ]
  },
  {
   "cell_type": "code",
   "execution_count": null,
   "metadata": {},
   "outputs": [],
   "source": []
  }
 ],
 "metadata": {
  "kernelspec": {
   "display_name": "Python 3.10.6 ('capstoneenv')",
   "language": "python",
   "name": "python3"
  },
  "language_info": {
   "codemirror_mode": {
    "name": "ipython",
    "version": 3
   },
   "file_extension": ".py",
   "mimetype": "text/x-python",
   "name": "python",
   "nbconvert_exporter": "python",
   "pygments_lexer": "ipython3",
   "version": "3.10.6"
  },
  "orig_nbformat": 4,
  "vscode": {
   "interpreter": {
    "hash": "fed43211bc253efdb5d7fa0232daae4698b2ceb3dad0e0df42312da65a5331fe"
   }
  }
 },
 "nbformat": 4,
 "nbformat_minor": 2
}
