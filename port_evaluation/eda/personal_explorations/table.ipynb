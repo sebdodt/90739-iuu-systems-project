{
 "cells": [
  {
   "cell_type": "code",
   "execution_count": 1,
   "metadata": {},
   "outputs": [],
   "source": [
    "import pandas as pd"
   ]
  },
  {
   "cell_type": "code",
   "execution_count": 24,
   "metadata": {},
   "outputs": [],
   "source": [
    "gfw = pd.read_csv('/Users/sebastiandodt/OneDrive/Uni/Carnegie Mellon University/Modules/2022 Fall/Systems Project/Coding/90739-iuu-systems-project/pipeline/data/output/carrier_mmsi.csv')\n",
    "sv = pd.read_csv('/Users/sebastiandodt/OneDrive/Uni/Carnegie Mellon University/Modules/2022 Fall/Systems Project/Coding/90739-iuu-systems-project/pipeline/data/output/10 dec.csv')\n",
    "sv_orig = pd.read_csv('/Users/sebastiandodt/OneDrive/Uni/Carnegie Mellon University/Modules/2022 Fall/Systems Project/Coding/90739-iuu-systems-project/pipeline/data/seavision/lists-Reefers-2022-11-11_04-40.csv')\n"
   ]
  },
  {
   "cell_type": "code",
   "execution_count": 25,
   "metadata": {},
   "outputs": [],
   "source": [
    "ignore = pd.Series(['Unnamed: 0', 'encounter',\n",
    "       \"('eez_visit', 'Kuril Islands (Japan v. Russia)')\",\n",
    "       \"('eez_visit', 'United States Exclusive Economic Zone (Alaska)')\",\n",
    "       \"('eez_visit', 'Guinea Bissau Exclusive Economic Zone')\",\n",
    "       \"('eez_visit', 'Chinese Exclusive Economic Zone')\",\n",
    "       \"('eez_visit', 'Japanese Exclusive Economic Zone')\",\n",
    "       \"('eez_visit', 'Kiribati Exclusive Economic Zone')\",\n",
    "       \"('eez_visit', 'Indonesian Exclusive Economic Zone')\",\n",
    "       \"('eez_visit', 'Canadian Exclusive Economic Zone')\",\n",
    "       \"('rfmo_visit', 'CACFISH')\", \"('rfmo_visit', 'CCSBT-proposed')\",\n",
    "       \"('rfmo_visit', 'EIFAAC')\"])\n",
    "columns = sv.columns[~pd.Series(sv.columns).isin(gfw.columns)] \n",
    "columns = columns[~columns.isin(ignore)]\n",
    "merged = sv.loc[:,columns].merge(gfw, left_on='MMSI', right_on='mmsi', how='right')"
   ]
  },
  {
   "cell_type": "code",
   "execution_count": 23,
   "metadata": {},
   "outputs": [],
   "source": [
    "fishing_boats = sv_orig.loc[sv_orig['Vessel Type'] == '30-Fishing','MMSI']\n",
    "merged = merged.loc[~merged['mmsi'].isin(fishing_boats),:]\n",
    "merged.to_excel('/Users/sebastiandodt/OneDrive/Uni/Carnegie Mellon University/Modules/2022 Fall/Systems Project/Coding/90739-iuu-systems-project/pipeline/data/output/sebs_output2.xlsx')"
   ]
  },
  {
   "cell_type": "code",
   "execution_count": null,
   "metadata": {},
   "outputs": [],
   "source": []
  }
 ],
 "metadata": {
  "kernelspec": {
   "display_name": "Python 3.10.6 ('capstoneenv')",
   "language": "python",
   "name": "python3"
  },
  "language_info": {
   "codemirror_mode": {
    "name": "ipython",
    "version": 3
   },
   "file_extension": ".py",
   "mimetype": "text/x-python",
   "name": "python",
   "nbconvert_exporter": "python",
   "pygments_lexer": "ipython3",
   "version": "3.10.6 | packaged by conda-forge | (main, Aug 22 2022, 20:41:54) [Clang 13.0.1 ]"
  },
  "orig_nbformat": 4,
  "vscode": {
   "interpreter": {
    "hash": "fed43211bc253efdb5d7fa0232daae4698b2ceb3dad0e0df42312da65a5331fe"
   }
  }
 },
 "nbformat": 4,
 "nbformat_minor": 2
}
