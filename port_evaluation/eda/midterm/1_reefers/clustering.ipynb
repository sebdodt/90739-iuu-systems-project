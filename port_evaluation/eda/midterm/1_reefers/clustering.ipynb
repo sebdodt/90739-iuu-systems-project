{
 "cells": [
  {
   "cell_type": "code",
   "execution_count": 21,
   "metadata": {},
   "outputs": [],
   "source": [
    "import pandas as pd\n",
    "import numpy as np"
   ]
  },
  {
   "cell_type": "code",
   "execution_count": null,
   "metadata": {},
   "outputs": [
    {
     "name": "stderr",
     "output_type": "stream",
     "text": [
      "/var/folders/8z/3jxkd1111yv6m0gf9g9kqmdr0000gn/T/ipykernel_22244/2823976219.py:1: DtypeWarning: Columns (43,45,48,55) have mixed types. Specify dtype option on import or set low_memory=False.\n",
      "  encounters = pd.read_csv('/Users/sebastiandodt/OneDrive/Uni/Carnegie Mellon University/Modules/2022 Fall/Systems Project/Coding/90739-iuu-systems-project/pipeline/data/unified/encounters.csv')\n",
      "/var/folders/8z/3jxkd1111yv6m0gf9g9kqmdr0000gn/T/ipykernel_22244/2823976219.py:2: DtypeWarning: Columns (11,12,13,14,15,42,43,44,47,52) have mixed types. Specify dtype option on import or set low_memory=False.\n",
      "  loitering = pd.read_csv('/Users/sebastiandodt/OneDrive/Uni/Carnegie Mellon University/Modules/2022 Fall/Systems Project/Coding/90739-iuu-systems-project/pipeline/data/unified/loitering.csv')\n",
      "/var/folders/8z/3jxkd1111yv6m0gf9g9kqmdr0000gn/T/ipykernel_22244/2823976219.py:3: DtypeWarning: Columns (16,17,18,19,22,27,30,33,34,35,38,39,42,43,44,47,48,51,52) have mixed types. Specify dtype option on import or set low_memory=False.\n",
      "  port_visits = pd.read_csv('/Users/sebastiandodt/OneDrive/Uni/Carnegie Mellon University/Modules/2022 Fall/Systems Project/Coding/90739-iuu-systems-project/pipeline/data/unified/port_visit.csv')\n"
     ]
    },
    {
     "ename": "",
     "evalue": "",
     "output_type": "error",
     "traceback": [
      "\u001b[1;31mnotebook controller is DISPOSED. \n",
      "\u001b[1;31mView Jupyter <a href='command:jupyter.viewOutput'>log</a> for further details."
     ]
    }
   ],
   "source": [
    "encounters = pd.read_csv('/Users/sebastiandodt/OneDrive/Uni/Carnegie Mellon University/Modules/2022 Fall/Systems Project/Coding/90739-iuu-systems-project/pipeline/data/unified/encounters.csv')\n",
    "loitering = pd.read_csv('/Users/sebastiandodt/OneDrive/Uni/Carnegie Mellon University/Modules/2022 Fall/Systems Project/Coding/90739-iuu-systems-project/pipeline/data/unified/loitering.csv')\n",
    "port_visits = pd.read_csv('/Users/sebastiandodt/OneDrive/Uni/Carnegie Mellon University/Modules/2022 Fall/Systems Project/Coding/90739-iuu-systems-project/pipeline/data/unified/port_visit.csv')"
   ]
  },
  {
   "cell_type": "code",
   "execution_count": null,
   "metadata": {},
   "outputs": [
    {
     "ename": "",
     "evalue": "",
     "output_type": "error",
     "traceback": [
      "\u001b[1;31mnotebook controller is DISPOSED. \n",
      "\u001b[1;31mView Jupyter <a href='command:jupyter.viewOutput'>log</a> for further details."
     ]
    }
   ],
   "source": [
    "mmsi = pd.read_csv('/Users/sebastiandodt/Desktop/final table (1).csv')\n",
    "# unique = loitering.groupby('vessel.mmsi')['vessel.name','vessel.flag'].drop_duplicates()\n",
    "# mmsi = mmsi.merge(unique, how='left',right_on='vessel.mmsi', left_on='mmsi')\n",
    "mmsi.sort_values('loitering', ascending=False, inplace=True)\n",
    "top_100_loiterers = mmsi['mmsi'].head(150)"
   ]
  },
  {
   "cell_type": "code",
   "execution_count": null,
   "metadata": {},
   "outputs": [
    {
     "ename": "",
     "evalue": "",
     "output_type": "error",
     "traceback": [
      "\u001b[1;31mnotebook controller is DISPOSED. \n",
      "\u001b[1;31mView Jupyter <a href='command:jupyter.viewOutput'>log</a> for further details."
     ]
    }
   ],
   "source": [
    "top_100_names = mmsi['Name'].head(150)\n",
    "top_100_flags = mmsi['Flag'].head(150).reset_index(drop=True)"
   ]
  },
  {
   "cell_type": "code",
   "execution_count": null,
   "metadata": {},
   "outputs": [
    {
     "data": {
      "text/plain": [
       "1766              Hrizolit\n",
       "2469               Moneron\n",
       "2436    Vsevolod Sibirtsev\n",
       "2511                Kondor\n",
       "2085              Agnes 83\n",
       "               ...        \n",
       "1587                He Tai\n",
       "404                Angel I\n",
       "1781                   NaN\n",
       "2546                 Ryoma\n",
       "295        Ning Tai Leng 2\n",
       "Name: Name, Length: 150, dtype: object"
      ]
     },
     "execution_count": 7,
     "metadata": {},
     "output_type": "execute_result"
    },
    {
     "ename": "",
     "evalue": "",
     "output_type": "error",
     "traceback": [
      "\u001b[1;31mnotebook controller is DISPOSED. \n",
      "\u001b[1;31mView Jupyter <a href='command:jupyter.viewOutput'>log</a> for further details."
     ]
    }
   ],
   "source": [
    "top_100_names"
   ]
  },
  {
   "cell_type": "code",
   "execution_count": null,
   "metadata": {},
   "outputs": [
    {
     "ename": "",
     "evalue": "",
     "output_type": "error",
     "traceback": [
      "\u001b[1;31mnotebook controller is DISPOSED. \n",
      "\u001b[1;31mView Jupyter <a href='command:jupyter.viewOutput'>log</a> for further details."
     ]
    }
   ],
   "source": [
    "# top_100_loiterers = loitering.loc[loitering['start'] >= '2020-01-01','vessel.id']\n",
    "encounters = encounters.loc[encounters['vessel.mmsi'].isin(top_100_loiterers),:]"
   ]
  },
  {
   "cell_type": "code",
   "execution_count": null,
   "metadata": {},
   "outputs": [
    {
     "data": {
      "text/html": [
       "<div>\n",
       "<style scoped>\n",
       "    .dataframe tbody tr th:only-of-type {\n",
       "        vertical-align: middle;\n",
       "    }\n",
       "\n",
       "    .dataframe tbody tr th {\n",
       "        vertical-align: top;\n",
       "    }\n",
       "\n",
       "    .dataframe thead th {\n",
       "        text-align: right;\n",
       "    }\n",
       "</style>\n",
       "<table border=\"1\" class=\"dataframe\">\n",
       "  <thead>\n",
       "    <tr style=\"text-align: right;\">\n",
       "      <th></th>\n",
       "      <th>Unnamed: 0</th>\n",
       "      <th>id</th>\n",
       "      <th>type</th>\n",
       "      <th>start</th>\n",
       "      <th>end</th>\n",
       "      <th>lat</th>\n",
       "      <th>lon</th>\n",
       "      <th>vessel.id</th>\n",
       "      <th>vessel.type</th>\n",
       "      <th>vessel.mmsi</th>\n",
       "      <th>...</th>\n",
       "      <th>major_fao</th>\n",
       "      <th>eez12nm</th>\n",
       "      <th>boundingBox</th>\n",
       "      <th>startDistanceFromShoreKm</th>\n",
       "      <th>endDistanceFromShoreKm</th>\n",
       "      <th>startDistanceFromPortKm</th>\n",
       "      <th>endDistanceFromPortKm</th>\n",
       "      <th>medianDistanceKilometers</th>\n",
       "      <th>medianSpeedKnots</th>\n",
       "      <th>encounter_type</th>\n",
       "    </tr>\n",
       "  </thead>\n",
       "  <tbody>\n",
       "    <tr>\n",
       "      <th>38365</th>\n",
       "      <td>38365</td>\n",
       "      <td>d4806c127f66196e065e5a20b777e8fa.1</td>\n",
       "      <td>encounter</td>\n",
       "      <td>2012-01-17 11:10:00</td>\n",
       "      <td>2012-01-17 23:20:00</td>\n",
       "      <td>57.371008</td>\n",
       "      <td>156.130599</td>\n",
       "      <td>a4ad6f585-521c-eda7-8979-66e52045993d</td>\n",
       "      <td>carrier</td>\n",
       "      <td>273313270</td>\n",
       "      <td>...</td>\n",
       "      <td>NaN</td>\n",
       "      <td>NaN</td>\n",
       "      <td>NaN</td>\n",
       "      <td>NaN</td>\n",
       "      <td>NaN</td>\n",
       "      <td>NaN</td>\n",
       "      <td>NaN</td>\n",
       "      <td>NaN</td>\n",
       "      <td>NaN</td>\n",
       "      <td>NaN</td>\n",
       "    </tr>\n",
       "    <tr>\n",
       "      <th>3300</th>\n",
       "      <td>3300</td>\n",
       "      <td>8a99602c5daf99155e6dfffd0c7916db.1</td>\n",
       "      <td>encounter</td>\n",
       "      <td>2012-01-20 00:10:00</td>\n",
       "      <td>2012-01-20 10:10:00</td>\n",
       "      <td>55.812103</td>\n",
       "      <td>147.930344</td>\n",
       "      <td>0e651fc0c-c44e-707a-db65-54f24646ea6e</td>\n",
       "      <td>carrier</td>\n",
       "      <td>273420160</td>\n",
       "      <td>...</td>\n",
       "      <td>NaN</td>\n",
       "      <td>NaN</td>\n",
       "      <td>NaN</td>\n",
       "      <td>NaN</td>\n",
       "      <td>NaN</td>\n",
       "      <td>NaN</td>\n",
       "      <td>NaN</td>\n",
       "      <td>NaN</td>\n",
       "      <td>NaN</td>\n",
       "      <td>NaN</td>\n",
       "    </tr>\n",
       "    <tr>\n",
       "      <th>3196</th>\n",
       "      <td>3196</td>\n",
       "      <td>ecd3b032d55d042a56b29b2755905699.1</td>\n",
       "      <td>encounter</td>\n",
       "      <td>2012-01-22 08:30:00</td>\n",
       "      <td>2012-01-22 11:00:00</td>\n",
       "      <td>55.923885</td>\n",
       "      <td>147.881015</td>\n",
       "      <td>0e651fc0c-c44e-707a-db65-54f24646ea6e</td>\n",
       "      <td>carrier</td>\n",
       "      <td>273420160</td>\n",
       "      <td>...</td>\n",
       "      <td>NaN</td>\n",
       "      <td>NaN</td>\n",
       "      <td>NaN</td>\n",
       "      <td>NaN</td>\n",
       "      <td>NaN</td>\n",
       "      <td>NaN</td>\n",
       "      <td>NaN</td>\n",
       "      <td>NaN</td>\n",
       "      <td>NaN</td>\n",
       "      <td>NaN</td>\n",
       "    </tr>\n",
       "    <tr>\n",
       "      <th>19974</th>\n",
       "      <td>19974</td>\n",
       "      <td>56a33a3673c041dc04bd287e55661971.1</td>\n",
       "      <td>encounter</td>\n",
       "      <td>2012-01-22 08:30:00</td>\n",
       "      <td>2012-01-22 11:00:00</td>\n",
       "      <td>54.116386</td>\n",
       "      <td>155.366737</td>\n",
       "      <td>5beb975ed-d166-59f6-be10-c812d4c93f14</td>\n",
       "      <td>carrier</td>\n",
       "      <td>273512400</td>\n",
       "      <td>...</td>\n",
       "      <td>NaN</td>\n",
       "      <td>NaN</td>\n",
       "      <td>NaN</td>\n",
       "      <td>NaN</td>\n",
       "      <td>NaN</td>\n",
       "      <td>NaN</td>\n",
       "      <td>NaN</td>\n",
       "      <td>NaN</td>\n",
       "      <td>NaN</td>\n",
       "      <td>NaN</td>\n",
       "    </tr>\n",
       "    <tr>\n",
       "      <th>36302</th>\n",
       "      <td>36302</td>\n",
       "      <td>ab1267ce18b71656e0ab9f9d75232c62.1</td>\n",
       "      <td>encounter</td>\n",
       "      <td>2012-01-26 00:00:00</td>\n",
       "      <td>2012-01-26 11:10:00</td>\n",
       "      <td>57.965749</td>\n",
       "      <td>142.042377</td>\n",
       "      <td>9e6a50d61-135a-cac1-5572-2064ec9b6184</td>\n",
       "      <td>carrier</td>\n",
       "      <td>273422240</td>\n",
       "      <td>...</td>\n",
       "      <td>NaN</td>\n",
       "      <td>NaN</td>\n",
       "      <td>NaN</td>\n",
       "      <td>NaN</td>\n",
       "      <td>NaN</td>\n",
       "      <td>NaN</td>\n",
       "      <td>NaN</td>\n",
       "      <td>NaN</td>\n",
       "      <td>NaN</td>\n",
       "      <td>NaN</td>\n",
       "    </tr>\n",
       "    <tr>\n",
       "      <th>...</th>\n",
       "      <td>...</td>\n",
       "      <td>...</td>\n",
       "      <td>...</td>\n",
       "      <td>...</td>\n",
       "      <td>...</td>\n",
       "      <td>...</td>\n",
       "      <td>...</td>\n",
       "      <td>...</td>\n",
       "      <td>...</td>\n",
       "      <td>...</td>\n",
       "      <td>...</td>\n",
       "      <td>...</td>\n",
       "      <td>...</td>\n",
       "      <td>...</td>\n",
       "      <td>...</td>\n",
       "      <td>...</td>\n",
       "      <td>...</td>\n",
       "      <td>...</td>\n",
       "      <td>...</td>\n",
       "      <td>...</td>\n",
       "      <td>...</td>\n",
       "    </tr>\n",
       "    <tr>\n",
       "      <th>59350</th>\n",
       "      <td>118270</td>\n",
       "      <td>6a918ff8a1db0ddf6a608b6b568da05a.1</td>\n",
       "      <td>encounter</td>\n",
       "      <td>2022-10-30 11:00:00</td>\n",
       "      <td>2022-10-30 17:50:00</td>\n",
       "      <td>-17.717200</td>\n",
       "      <td>-81.129500</td>\n",
       "      <td>419f86154-47a9-ac44-cd69-0b988947e61c</td>\n",
       "      <td>carrier</td>\n",
       "      <td>412421088</td>\n",
       "      <td>...</td>\n",
       "      <td>87.0</td>\n",
       "      <td>NaN</td>\n",
       "      <td>-81.1294788791535, -17.7172316781731, -81.1294...</td>\n",
       "      <td>650.0</td>\n",
       "      <td>650.0</td>\n",
       "      <td>676.851312</td>\n",
       "      <td>676.851312</td>\n",
       "      <td>0.059</td>\n",
       "      <td>0.801</td>\n",
       "      <td>carrier-fishing</td>\n",
       "    </tr>\n",
       "    <tr>\n",
       "      <th>59352</th>\n",
       "      <td>118275</td>\n",
       "      <td>7acd9ad8941ebf5445a9d1a8f2644807.1</td>\n",
       "      <td>encounter</td>\n",
       "      <td>2022-10-30 11:30:00</td>\n",
       "      <td>2022-10-30 14:40:00</td>\n",
       "      <td>-17.475000</td>\n",
       "      <td>-80.893300</td>\n",
       "      <td>0bc5c51c9-9c68-0015-aa73-f3f459a498be</td>\n",
       "      <td>carrier</td>\n",
       "      <td>636018227</td>\n",
       "      <td>...</td>\n",
       "      <td>87.0</td>\n",
       "      <td>NaN</td>\n",
       "      <td>-80.8932585728, -17.4750150147, -80.8932585728...</td>\n",
       "      <td>614.0</td>\n",
       "      <td>614.0</td>\n",
       "      <td>640.268375</td>\n",
       "      <td>640.268375</td>\n",
       "      <td>0.035</td>\n",
       "      <td>1.260</td>\n",
       "      <td>carrier-fishing</td>\n",
       "    </tr>\n",
       "    <tr>\n",
       "      <th>59355</th>\n",
       "      <td>118281</td>\n",
       "      <td>d964b6c994719ee27fe15fa9994f02bd.2</td>\n",
       "      <td>encounter</td>\n",
       "      <td>2022-10-30 14:10:00</td>\n",
       "      <td>2022-10-30 18:50:00</td>\n",
       "      <td>-17.626800</td>\n",
       "      <td>-80.831100</td>\n",
       "      <td>8979d35a8-8b6b-073e-ba6c-d94fdbaac20a</td>\n",
       "      <td>carrier</td>\n",
       "      <td>354003000</td>\n",
       "      <td>...</td>\n",
       "      <td>87.0</td>\n",
       "      <td>NaN</td>\n",
       "      <td>-80.8310806246053, -17.62678010372, -80.831080...</td>\n",
       "      <td>618.0</td>\n",
       "      <td>618.0</td>\n",
       "      <td>646.069062</td>\n",
       "      <td>646.069062</td>\n",
       "      <td>0.041</td>\n",
       "      <td>1.137</td>\n",
       "      <td>carrier-fishing</td>\n",
       "    </tr>\n",
       "    <tr>\n",
       "      <th>59357</th>\n",
       "      <td>118284</td>\n",
       "      <td>ba399f5092bed2fdb4be92fa65b545ae.1</td>\n",
       "      <td>encounter</td>\n",
       "      <td>2022-10-30 15:20:00</td>\n",
       "      <td>2022-10-30 21:30:00</td>\n",
       "      <td>-17.590800</td>\n",
       "      <td>-80.866000</td>\n",
       "      <td>8979d35a8-8b6b-073e-ba6c-d94fdbaac20a</td>\n",
       "      <td>carrier</td>\n",
       "      <td>354003000</td>\n",
       "      <td>...</td>\n",
       "      <td>87.0</td>\n",
       "      <td>NaN</td>\n",
       "      <td>-80.8660174432, -17.5907806122, -80.8660174432...</td>\n",
       "      <td>619.0</td>\n",
       "      <td>619.0</td>\n",
       "      <td>646.423625</td>\n",
       "      <td>646.423625</td>\n",
       "      <td>0.053</td>\n",
       "      <td>1.264</td>\n",
       "      <td>carrier-fishing</td>\n",
       "    </tr>\n",
       "    <tr>\n",
       "      <th>59360</th>\n",
       "      <td>118291</td>\n",
       "      <td>9c0c94c12a4614399b396aaed95ea500.1</td>\n",
       "      <td>encounter</td>\n",
       "      <td>2022-10-30 18:20:00</td>\n",
       "      <td>2022-10-30 21:40:00</td>\n",
       "      <td>-17.767200</td>\n",
       "      <td>-81.112400</td>\n",
       "      <td>0bc5c51c9-9c68-0015-aa73-f3f459a498be</td>\n",
       "      <td>carrier</td>\n",
       "      <td>636018227</td>\n",
       "      <td>...</td>\n",
       "      <td>87.0</td>\n",
       "      <td>NaN</td>\n",
       "      <td>-81.1123629956, -17.76723656205, -81.112362995...</td>\n",
       "      <td>651.0</td>\n",
       "      <td>651.0</td>\n",
       "      <td>678.767375</td>\n",
       "      <td>678.767375</td>\n",
       "      <td>0.040</td>\n",
       "      <td>1.063</td>\n",
       "      <td>carrier-fishing</td>\n",
       "    </tr>\n",
       "  </tbody>\n",
       "</table>\n",
       "<p>24363 rows × 56 columns</p>\n",
       "</div>"
      ],
      "text/plain": [
       "       Unnamed: 0                                  id       type  \\\n",
       "38365       38365  d4806c127f66196e065e5a20b777e8fa.1  encounter   \n",
       "3300         3300  8a99602c5daf99155e6dfffd0c7916db.1  encounter   \n",
       "3196         3196  ecd3b032d55d042a56b29b2755905699.1  encounter   \n",
       "19974       19974  56a33a3673c041dc04bd287e55661971.1  encounter   \n",
       "36302       36302  ab1267ce18b71656e0ab9f9d75232c62.1  encounter   \n",
       "...           ...                                 ...        ...   \n",
       "59350      118270  6a918ff8a1db0ddf6a608b6b568da05a.1  encounter   \n",
       "59352      118275  7acd9ad8941ebf5445a9d1a8f2644807.1  encounter   \n",
       "59355      118281  d964b6c994719ee27fe15fa9994f02bd.2  encounter   \n",
       "59357      118284  ba399f5092bed2fdb4be92fa65b545ae.1  encounter   \n",
       "59360      118291  9c0c94c12a4614399b396aaed95ea500.1  encounter   \n",
       "\n",
       "                     start                  end        lat         lon  \\\n",
       "38365  2012-01-17 11:10:00  2012-01-17 23:20:00  57.371008  156.130599   \n",
       "3300   2012-01-20 00:10:00  2012-01-20 10:10:00  55.812103  147.930344   \n",
       "3196   2012-01-22 08:30:00  2012-01-22 11:00:00  55.923885  147.881015   \n",
       "19974  2012-01-22 08:30:00  2012-01-22 11:00:00  54.116386  155.366737   \n",
       "36302  2012-01-26 00:00:00  2012-01-26 11:10:00  57.965749  142.042377   \n",
       "...                    ...                  ...        ...         ...   \n",
       "59350  2022-10-30 11:00:00  2022-10-30 17:50:00 -17.717200  -81.129500   \n",
       "59352  2022-10-30 11:30:00  2022-10-30 14:40:00 -17.475000  -80.893300   \n",
       "59355  2022-10-30 14:10:00  2022-10-30 18:50:00 -17.626800  -80.831100   \n",
       "59357  2022-10-30 15:20:00  2022-10-30 21:30:00 -17.590800  -80.866000   \n",
       "59360  2022-10-30 18:20:00  2022-10-30 21:40:00 -17.767200  -81.112400   \n",
       "\n",
       "                                   vessel.id vessel.type  vessel.mmsi  ...  \\\n",
       "38365  a4ad6f585-521c-eda7-8979-66e52045993d     carrier    273313270  ...   \n",
       "3300   0e651fc0c-c44e-707a-db65-54f24646ea6e     carrier    273420160  ...   \n",
       "3196   0e651fc0c-c44e-707a-db65-54f24646ea6e     carrier    273420160  ...   \n",
       "19974  5beb975ed-d166-59f6-be10-c812d4c93f14     carrier    273512400  ...   \n",
       "36302  9e6a50d61-135a-cac1-5572-2064ec9b6184     carrier    273422240  ...   \n",
       "...                                      ...         ...          ...  ...   \n",
       "59350  419f86154-47a9-ac44-cd69-0b988947e61c     carrier    412421088  ...   \n",
       "59352  0bc5c51c9-9c68-0015-aa73-f3f459a498be     carrier    636018227  ...   \n",
       "59355  8979d35a8-8b6b-073e-ba6c-d94fdbaac20a     carrier    354003000  ...   \n",
       "59357  8979d35a8-8b6b-073e-ba6c-d94fdbaac20a     carrier    354003000  ...   \n",
       "59360  0bc5c51c9-9c68-0015-aa73-f3f459a498be     carrier    636018227  ...   \n",
       "\n",
       "      major_fao eez12nm                                        boundingBox  \\\n",
       "38365       NaN     NaN                                                NaN   \n",
       "3300        NaN     NaN                                                NaN   \n",
       "3196        NaN     NaN                                                NaN   \n",
       "19974       NaN     NaN                                                NaN   \n",
       "36302       NaN     NaN                                                NaN   \n",
       "...         ...     ...                                                ...   \n",
       "59350      87.0     NaN  -81.1294788791535, -17.7172316781731, -81.1294...   \n",
       "59352      87.0     NaN  -80.8932585728, -17.4750150147, -80.8932585728...   \n",
       "59355      87.0     NaN  -80.8310806246053, -17.62678010372, -80.831080...   \n",
       "59357      87.0     NaN  -80.8660174432, -17.5907806122, -80.8660174432...   \n",
       "59360      87.0     NaN  -81.1123629956, -17.76723656205, -81.112362995...   \n",
       "\n",
       "      startDistanceFromShoreKm endDistanceFromShoreKm startDistanceFromPortKm  \\\n",
       "38365                      NaN                    NaN                     NaN   \n",
       "3300                       NaN                    NaN                     NaN   \n",
       "3196                       NaN                    NaN                     NaN   \n",
       "19974                      NaN                    NaN                     NaN   \n",
       "36302                      NaN                    NaN                     NaN   \n",
       "...                        ...                    ...                     ...   \n",
       "59350                    650.0                  650.0              676.851312   \n",
       "59352                    614.0                  614.0              640.268375   \n",
       "59355                    618.0                  618.0              646.069062   \n",
       "59357                    619.0                  619.0              646.423625   \n",
       "59360                    651.0                  651.0              678.767375   \n",
       "\n",
       "      endDistanceFromPortKm  medianDistanceKilometers  medianSpeedKnots  \\\n",
       "38365                   NaN                       NaN               NaN   \n",
       "3300                    NaN                       NaN               NaN   \n",
       "3196                    NaN                       NaN               NaN   \n",
       "19974                   NaN                       NaN               NaN   \n",
       "36302                   NaN                       NaN               NaN   \n",
       "...                     ...                       ...               ...   \n",
       "59350            676.851312                     0.059             0.801   \n",
       "59352            640.268375                     0.035             1.260   \n",
       "59355            646.069062                     0.041             1.137   \n",
       "59357            646.423625                     0.053             1.264   \n",
       "59360            678.767375                     0.040             1.063   \n",
       "\n",
       "        encounter_type  \n",
       "38365              NaN  \n",
       "3300               NaN  \n",
       "3196               NaN  \n",
       "19974              NaN  \n",
       "36302              NaN  \n",
       "...                ...  \n",
       "59350  carrier-fishing  \n",
       "59352  carrier-fishing  \n",
       "59355  carrier-fishing  \n",
       "59357  carrier-fishing  \n",
       "59360  carrier-fishing  \n",
       "\n",
       "[24363 rows x 56 columns]"
      ]
     },
     "execution_count": 20,
     "metadata": {},
     "output_type": "execute_result"
    },
    {
     "ename": "",
     "evalue": "",
     "output_type": "error",
     "traceback": [
      "\u001b[1;31mnotebook controller is DISPOSED. \n",
      "\u001b[1;31mView Jupyter <a href='command:jupyter.viewOutput'>log</a> for further details."
     ]
    }
   ],
   "source": [
    "encounters.sort_values('start')"
   ]
  },
  {
   "cell_type": "code",
   "execution_count": null,
   "metadata": {},
   "outputs": [
    {
     "ename": "",
     "evalue": "",
     "output_type": "error",
     "traceback": [
      "\u001b[1;31mnotebook controller is DISPOSED. \n",
      "\u001b[1;31mView Jupyter <a href='command:jupyter.viewOutput'>log</a> for further details."
     ]
    },
    {
     "ename": "",
     "evalue": "",
     "output_type": "error",
     "traceback": [
      "\u001b[1;31mnotebook controller is DISPOSED. \n",
      "\u001b[1;31mView Jupyter <a href='command:jupyter.viewOutput'>log</a> for further details."
     ]
    },
    {
     "ename": "",
     "evalue": "",
     "output_type": "error",
     "traceback": [
      "\u001b[1;31mnotebook controller is DISPOSED. \n",
      "\u001b[1;31mView Jupyter <a href='command:jupyter.viewOutput'>log</a> for further details."
     ]
    }
   ],
   "source": [
    "# n_connections = []\n",
    "# threshold1 = 0\n",
    "# threshold2 = 0\n",
    "# encounters = encounters.loc[encounters['start'] > '2020-01-01',:]\n",
    "# for mmsi in encounters['vessel.mmsi'].unique():\n",
    "#     encounters_of_vessel = encounters.loc[encounters['vessel.mmsi']==mmsi,:]\n",
    "#     fishers = encounters_of_vessel['encounter.encountered_vessel.mmsi']\n",
    "#     encounters_of_fishers = encounters.loc[encounters['encounter.encountered_vessel.mmsi'].isin(fishers),:]\n",
    "#     n_connections.append(len(encounters_of_fishers['vessel.mmsi'].unique()) - 1)"
   ]
  },
  {
   "cell_type": "code",
   "execution_count": null,
   "metadata": {},
   "outputs": [
    {
     "data": {
      "text/plain": [
       "array([[271.,   1.,   0., ...,   0., 126.,   3.],\n",
       "       [  2., 177.,   0., ...,   0.,   8.,   0.],\n",
       "       [  0.,   0.,   1., ...,   0.,   0.,   0.],\n",
       "       ...,\n",
       "       [  0.,   0.,   0., ..., 300.,   0.,   0.],\n",
       "       [120.,   7.,   0., ...,   0., 378.,   1.],\n",
       "       [  1.,   0.,   0., ...,   0.,   1.,  37.]])"
      ]
     },
     "execution_count": 10,
     "metadata": {},
     "output_type": "execute_result"
    },
    {
     "ename": "",
     "evalue": "",
     "output_type": "error",
     "traceback": [
      "\u001b[1;31mnotebook controller is DISPOSED. \n",
      "\u001b[1;31mView Jupyter <a href='command:jupyter.viewOutput'>log</a> for further details."
     ]
    }
   ],
   "source": [
    "encounters = encounters.loc[encounters['start'] > '2020-01-01',:]\n",
    "ship_indices = list(encounters['vessel.mmsi'].unique())\n",
    "E = np.zeros((len(ship_indices),len(ship_indices)))\n",
    "for x in range(len(ship_indices)):\n",
    "    for y in range(len(ship_indices)):\n",
    "        encounters_of_y = encounters.loc[encounters['vessel.mmsi']==ship_indices[y],:]\n",
    "        fishers_of_y = encounters_of_y['encounter.encountered_vessel.mmsi']\n",
    "        encounters_of_fishers = encounters.loc[encounters['encounter.encountered_vessel.mmsi'].isin(fishers_of_y),:]\n",
    "        encounters_of_x = len(encounters_of_fishers.loc[encounters_of_fishers['vessel.mmsi']==ship_indices[x],:])\n",
    "        E[x,y] = encounters_of_x\n",
    "\n",
    "E"
   ]
  },
  {
   "cell_type": "code",
   "execution_count": null,
   "metadata": {},
   "outputs": [
    {
     "data": {
      "text/plain": [
       "(127, 127)"
      ]
     },
     "execution_count": 11,
     "metadata": {},
     "output_type": "execute_result"
    },
    {
     "ename": "",
     "evalue": "",
     "output_type": "error",
     "traceback": [
      "\u001b[1;31mnotebook controller is DISPOSED. \n",
      "\u001b[1;31mView Jupyter <a href='command:jupyter.viewOutput'>log</a> for further details."
     ]
    }
   ],
   "source": [
    "E.shape"
   ]
  },
  {
   "cell_type": "code",
   "execution_count": null,
   "metadata": {},
   "outputs": [
    {
     "ename": "",
     "evalue": "",
     "output_type": "error",
     "traceback": [
      "\u001b[1;31mnotebook controller is DISPOSED. \n",
      "\u001b[1;31mView Jupyter <a href='command:jupyter.viewOutput'>log</a> for further details."
     ]
    },
    {
     "ename": "",
     "evalue": "",
     "output_type": "error",
     "traceback": [
      "\u001b[1;31mnotebook controller is DISPOSED. \n",
      "\u001b[1;31mView Jupyter <a href='command:jupyter.viewOutput'>log</a> for further details."
     ]
    },
    {
     "ename": "",
     "evalue": "",
     "output_type": "error",
     "traceback": [
      "\u001b[1;31mnotebook controller is DISPOSED. \n",
      "\u001b[1;31mView Jupyter <a href='command:jupyter.viewOutput'>log</a> for further details."
     ]
    }
   ],
   "source": [
    "# import gurobipy as gp\n",
    "# from gurobipy import *"
   ]
  },
  {
   "cell_type": "code",
   "execution_count": null,
   "metadata": {},
   "outputs": [
    {
     "ename": "",
     "evalue": "",
     "output_type": "error",
     "traceback": [
      "\u001b[1;31mnotebook controller is DISPOSED. \n",
      "\u001b[1;31mView Jupyter <a href='command:jupyter.viewOutput'>log</a> for further details."
     ]
    },
    {
     "ename": "",
     "evalue": "",
     "output_type": "error",
     "traceback": [
      "\u001b[1;31mnotebook controller is DISPOSED. \n",
      "\u001b[1;31mView Jupyter <a href='command:jupyter.viewOutput'>log</a> for further details."
     ]
    },
    {
     "ename": "",
     "evalue": "",
     "output_type": "error",
     "traceback": [
      "\u001b[1;31mnotebook controller is DISPOSED. \n",
      "\u001b[1;31mView Jupyter <a href='command:jupyter.viewOutput'>log</a> for further details."
     ]
    }
   ],
   "source": [
    "# clusters_idx = range(len(ship_indices))\n",
    "# ship_idx = range(len(ship_indices))\n",
    "# M = 10**10"
   ]
  },
  {
   "cell_type": "code",
   "execution_count": null,
   "metadata": {},
   "outputs": [
    {
     "ename": "",
     "evalue": "",
     "output_type": "error",
     "traceback": [
      "\u001b[1;31mnotebook controller is DISPOSED. \n",
      "\u001b[1;31mView Jupyter <a href='command:jupyter.viewOutput'>log</a> for further details."
     ]
    },
    {
     "ename": "",
     "evalue": "",
     "output_type": "error",
     "traceback": [
      "\u001b[1;31mnotebook controller is DISPOSED. \n",
      "\u001b[1;31mView Jupyter <a href='command:jupyter.viewOutput'>log</a> for further details."
     ]
    },
    {
     "ename": "",
     "evalue": "",
     "output_type": "error",
     "traceback": [
      "\u001b[1;31mnotebook controller is DISPOSED. \n",
      "\u001b[1;31mView Jupyter <a href='command:jupyter.viewOutput'>log</a> for further details."
     ]
    }
   ],
   "source": [
    "# model = gp.Model()\n",
    "# Y = model.addVars(clusters_idx, vtype = GRB.BINARY) \n",
    "# a = model.addVars(ship_idx,clusters_idx, vtype = GRB.BINARY)"
   ]
  },
  {
   "cell_type": "code",
   "execution_count": null,
   "metadata": {},
   "outputs": [
    {
     "ename": "",
     "evalue": "",
     "output_type": "error",
     "traceback": [
      "\u001b[1;31mnotebook controller is DISPOSED. \n",
      "\u001b[1;31mView Jupyter <a href='command:jupyter.viewOutput'>log</a> for further details."
     ]
    },
    {
     "ename": "",
     "evalue": "",
     "output_type": "error",
     "traceback": [
      "\u001b[1;31mnotebook controller is DISPOSED. \n",
      "\u001b[1;31mView Jupyter <a href='command:jupyter.viewOutput'>log</a> for further details."
     ]
    },
    {
     "ename": "",
     "evalue": "",
     "output_type": "error",
     "traceback": [
      "\u001b[1;31mnotebook controller is DISPOSED. \n",
      "\u001b[1;31mView Jupyter <a href='command:jupyter.viewOutput'>log</a> for further details."
     ]
    }
   ],
   "source": [
    "# model.setObjective(\n",
    "#     sum(\n",
    "#         Y[c]\n",
    "#         for c in clusters_idx)\n",
    "# )\n",
    "# model.modelSense = GRB.MAXIMIZE"
   ]
  },
  {
   "cell_type": "code",
   "execution_count": null,
   "metadata": {},
   "outputs": [
    {
     "ename": "",
     "evalue": "",
     "output_type": "error",
     "traceback": [
      "\u001b[1;31mnotebook controller is DISPOSED. \n",
      "\u001b[1;31mView Jupyter <a href='command:jupyter.viewOutput'>log</a> for further details."
     ]
    },
    {
     "ename": "",
     "evalue": "",
     "output_type": "error",
     "traceback": [
      "\u001b[1;31mnotebook controller is DISPOSED. \n",
      "\u001b[1;31mView Jupyter <a href='command:jupyter.viewOutput'>log</a> for further details."
     ]
    },
    {
     "ename": "",
     "evalue": "",
     "output_type": "error",
     "traceback": [
      "\u001b[1;31mnotebook controller is DISPOSED. \n",
      "\u001b[1;31mView Jupyter <a href='command:jupyter.viewOutput'>log</a> for further details."
     ]
    }
   ],
   "source": [
    "# for c in clusters_idx:\n",
    "#     model.addConstr(\n",
    "#         Y[c] <= sum(a[s,c] for s in ship_idx)\n",
    "#     )"
   ]
  },
  {
   "cell_type": "code",
   "execution_count": null,
   "metadata": {},
   "outputs": [
    {
     "ename": "",
     "evalue": "",
     "output_type": "error",
     "traceback": [
      "\u001b[1;31mnotebook controller is DISPOSED. \n",
      "\u001b[1;31mView Jupyter <a href='command:jupyter.viewOutput'>log</a> for further details."
     ]
    },
    {
     "ename": "",
     "evalue": "",
     "output_type": "error",
     "traceback": [
      "\u001b[1;31mnotebook controller is DISPOSED. \n",
      "\u001b[1;31mView Jupyter <a href='command:jupyter.viewOutput'>log</a> for further details."
     ]
    },
    {
     "ename": "",
     "evalue": "",
     "output_type": "error",
     "traceback": [
      "\u001b[1;31mnotebook controller is DISPOSED. \n",
      "\u001b[1;31mView Jupyter <a href='command:jupyter.viewOutput'>log</a> for further details."
     ]
    }
   ],
   "source": [
    "# for s1 in ship_idx:\n",
    "#     for s2 in ship_idx:\n",
    "#         for c in clusters_idx:\n",
    "#             model.addConstr(\n",
    "#                 (a[s1,c] * a[s2,c]) * M >= E[s1,s2]\n",
    "#             )"
   ]
  },
  {
   "cell_type": "code",
   "execution_count": null,
   "metadata": {},
   "outputs": [
    {
     "ename": "",
     "evalue": "",
     "output_type": "error",
     "traceback": [
      "\u001b[1;31mnotebook controller is DISPOSED. \n",
      "\u001b[1;31mView Jupyter <a href='command:jupyter.viewOutput'>log</a> for further details."
     ]
    },
    {
     "ename": "",
     "evalue": "",
     "output_type": "error",
     "traceback": [
      "\u001b[1;31mnotebook controller is DISPOSED. \n",
      "\u001b[1;31mView Jupyter <a href='command:jupyter.viewOutput'>log</a> for further details."
     ]
    },
    {
     "ename": "",
     "evalue": "",
     "output_type": "error",
     "traceback": [
      "\u001b[1;31mnotebook controller is DISPOSED. \n",
      "\u001b[1;31mView Jupyter <a href='command:jupyter.viewOutput'>log</a> for further details."
     ]
    }
   ],
   "source": [
    "# for s in ship_idx:\n",
    "#     model.addConstr(\n",
    "#         sum(\n",
    "#             a[s,c]\n",
    "#             for c in clusters_idx\n",
    "#         ) <= 1\n",
    "#     )"
   ]
  },
  {
   "cell_type": "code",
   "execution_count": null,
   "metadata": {},
   "outputs": [
    {
     "ename": "",
     "evalue": "",
     "output_type": "error",
     "traceback": [
      "\u001b[1;31mnotebook controller is DISPOSED. \n",
      "\u001b[1;31mView Jupyter <a href='command:jupyter.viewOutput'>log</a> for further details."
     ]
    },
    {
     "ename": "",
     "evalue": "",
     "output_type": "error",
     "traceback": [
      "\u001b[1;31mnotebook controller is DISPOSED. \n",
      "\u001b[1;31mView Jupyter <a href='command:jupyter.viewOutput'>log</a> for further details."
     ]
    },
    {
     "ename": "",
     "evalue": "",
     "output_type": "error",
     "traceback": [
      "\u001b[1;31mnotebook controller is DISPOSED. \n",
      "\u001b[1;31mView Jupyter <a href='command:jupyter.viewOutput'>log</a> for further details."
     ]
    }
   ],
   "source": [
    "# model.optimize()"
   ]
  },
  {
   "cell_type": "code",
   "execution_count": null,
   "metadata": {},
   "outputs": [
    {
     "ename": "",
     "evalue": "",
     "output_type": "error",
     "traceback": [
      "\u001b[1;31mnotebook controller is DISPOSED. \n",
      "\u001b[1;31mView Jupyter <a href='command:jupyter.viewOutput'>log</a> for further details."
     ]
    },
    {
     "ename": "",
     "evalue": "",
     "output_type": "error",
     "traceback": [
      "\u001b[1;31mnotebook controller is DISPOSED. \n",
      "\u001b[1;31mView Jupyter <a href='command:jupyter.viewOutput'>log</a> for further details."
     ]
    },
    {
     "ename": "",
     "evalue": "",
     "output_type": "error",
     "traceback": [
      "\u001b[1;31mnotebook controller is DISPOSED. \n",
      "\u001b[1;31mView Jupyter <a href='command:jupyter.viewOutput'>log</a> for further details."
     ]
    }
   ],
   "source": [
    "pd.DataFrame(E).to_csv('combinations.csv')"
   ]
  },
  {
   "cell_type": "code",
   "execution_count": null,
   "metadata": {},
   "outputs": [
    {
     "ename": "",
     "evalue": "",
     "output_type": "error",
     "traceback": [
      "\u001b[1;31mnotebook controller is DISPOSED. \n",
      "\u001b[1;31mView Jupyter <a href='command:jupyter.viewOutput'>log</a> for further details."
     ]
    }
   ],
   "source": [
    "from pyvis.network import Network\n",
    "import networkx as nx"
   ]
  },
  {
   "cell_type": "code",
   "execution_count": null,
   "metadata": {},
   "outputs": [
    {
     "name": "stdout",
     "output_type": "stream",
     "text": [
      "Local cdn resources have problems on chrome/safari when used in jupyter-notebook. \n"
     ]
    },
    {
     "data": {
      "text/html": [
       "\n",
       "        <iframe\n",
       "            width=\"100%\"\n",
       "            height=\"600px\"\n",
       "            src=\"test6.html\"\n",
       "            frameborder=\"0\"\n",
       "            allowfullscreen\n",
       "            \n",
       "        ></iframe>\n",
       "        "
      ],
      "text/plain": [
       "<IPython.lib.display.IFrame at 0x110dce6e0>"
      ]
     },
     "execution_count": 18,
     "metadata": {},
     "output_type": "execute_result"
    },
    {
     "ename": "",
     "evalue": "",
     "output_type": "error",
     "traceback": [
      "\u001b[1;31mnotebook controller is DISPOSED. \n",
      "\u001b[1;31mView Jupyter <a href='command:jupyter.viewOutput'>log</a> for further details."
     ]
    }
   ],
   "source": [
    "# G.add_node(ship_idx)\n",
    "G = nx.Graph()\n",
    "ship_idx = range(len(ship_indices))\n",
    "for i in ship_idx:\n",
    "    if top_100_flags[i] == 'Russia':\n",
    "        color = 'red'\n",
    "    elif top_100_flags[i] == 'Panama':\n",
    "        color = 'blue'\n",
    "    elif top_100_flags[i] == \"China, People's Republic Of\":\n",
    "        color = 'green'\n",
    "    else:\n",
    "        color = 'grey'\n",
    "    G.add_node(\n",
    "        i, \n",
    "        label=top_100_names.reset_index(drop=True)[i],\n",
    "        color=color)\n",
    "for i in ship_idx:\n",
    "    for j in ship_idx:\n",
    "        if i > j:\n",
    "            if (E[i,j]+E[i,j]) > 50:\n",
    "                # print(E[i,j])\n",
    "                G.add_edge(i,j,weight=(E[i,j]+E[j,i])/80)\n",
    "net = Network(notebook=True)\n",
    "net.from_nx(G)\n",
    "net.show('test6.html')"
   ]
  },
  {
   "cell_type": "code",
   "execution_count": null,
   "metadata": {},
   "outputs": [
    {
     "data": {
      "text/plain": [
       "Russia                         50\n",
       "Panama                         31\n",
       "China, People's Republic Of    12\n",
       "Chinese Taipei                  9\n",
       "Norway                          3\n",
       "Japan                           3\n",
       "Korea, South                    2\n",
       "Liberia                         2\n",
       "Singapore                       1\n",
       "Cameroon                        1\n",
       "Vanuatu                         1\n",
       "Norway (Nis)                    1\n",
       "Iceland                         1\n",
       "Peru                            1\n",
       "Ukraine                         1\n",
       "Name: Flag, dtype: int64"
      ]
     },
     "execution_count": 15,
     "metadata": {},
     "output_type": "execute_result"
    },
    {
     "ename": "",
     "evalue": "",
     "output_type": "error",
     "traceback": [
      "\u001b[1;31mnotebook controller is DISPOSED. \n",
      "\u001b[1;31mView Jupyter <a href='command:jupyter.viewOutput'>log</a> for further details."
     ]
    }
   ],
   "source": [
    "top_100_flags.value_counts()"
   ]
  },
  {
   "cell_type": "code",
   "execution_count": null,
   "metadata": {},
   "outputs": [
    {
     "ename": "",
     "evalue": "",
     "output_type": "error",
     "traceback": [
      "\u001b[1;31mnotebook controller is DISPOSED. \n",
      "\u001b[1;31mView Jupyter <a href='command:jupyter.viewOutput'>log</a> for further details."
     ]
    },
    {
     "ename": "",
     "evalue": "",
     "output_type": "error",
     "traceback": [
      "\u001b[1;31mnotebook controller is DISPOSED. \n",
      "\u001b[1;31mView Jupyter <a href='command:jupyter.viewOutput'>log</a> for further details."
     ]
    },
    {
     "ename": "",
     "evalue": "",
     "output_type": "error",
     "traceback": [
      "\u001b[1;31mnotebook controller is DISPOSED. \n",
      "\u001b[1;31mView Jupyter <a href='command:jupyter.viewOutput'>log</a> for further details."
     ]
    }
   ],
   "source": [
    "# H = (5, 7, {'weight': 3.1415})\n",
    "G.add_edge(5, 7, weight=4.7 )"
   ]
  },
  {
   "cell_type": "code",
   "execution_count": null,
   "metadata": {},
   "outputs": [
    {
     "data": {
      "text/plain": [
       "<networkx.classes.graph.Graph at 0xaddcef940>"
      ]
     },
     "execution_count": 139,
     "metadata": {},
     "output_type": "execute_result"
    },
    {
     "ename": "",
     "evalue": "",
     "output_type": "error",
     "traceback": [
      "\u001b[1;31mnotebook controller is DISPOSED. \n",
      "\u001b[1;31mView Jupyter <a href='command:jupyter.viewOutput'>log</a> for further details."
     ]
    },
    {
     "ename": "",
     "evalue": "",
     "output_type": "error",
     "traceback": [
      "\u001b[1;31mnotebook controller is DISPOSED. \n",
      "\u001b[1;31mView Jupyter <a href='command:jupyter.viewOutput'>log</a> for further details."
     ]
    },
    {
     "ename": "",
     "evalue": "",
     "output_type": "error",
     "traceback": [
      "\u001b[1;31mnotebook controller is DISPOSED. \n",
      "\u001b[1;31mView Jupyter <a href='command:jupyter.viewOutput'>log</a> for further details."
     ]
    }
   ],
   "source": [
    "G"
   ]
  },
  {
   "cell_type": "code",
   "execution_count": null,
   "metadata": {},
   "outputs": [
    {
     "ename": "",
     "evalue": "",
     "output_type": "error",
     "traceback": [
      "\u001b[1;31mnotebook controller is DISPOSED. \n",
      "\u001b[1;31mView Jupyter <a href='command:jupyter.viewOutput'>log</a> for further details."
     ]
    },
    {
     "ename": "",
     "evalue": "",
     "output_type": "error",
     "traceback": [
      "\u001b[1;31mnotebook controller is DISPOSED. \n",
      "\u001b[1;31mView Jupyter <a href='command:jupyter.viewOutput'>log</a> for further details."
     ]
    },
    {
     "ename": "",
     "evalue": "",
     "output_type": "error",
     "traceback": [
      "\u001b[1;31mnotebook controller is DISPOSED. \n",
      "\u001b[1;31mView Jupyter <a href='command:jupyter.viewOutput'>log</a> for further details."
     ]
    }
   ],
   "source": [
    "G.add_nodes_from(range(10))\n"
   ]
  },
  {
   "cell_type": "code",
   "execution_count": null,
   "metadata": {},
   "outputs": [
    {
     "ename": "",
     "evalue": "",
     "output_type": "error",
     "traceback": [
      "\u001b[1;31mnotebook controller is DISPOSED. \n",
      "\u001b[1;31mView Jupyter <a href='command:jupyter.viewOutput'>log</a> for further details."
     ]
    },
    {
     "ename": "",
     "evalue": "",
     "output_type": "error",
     "traceback": [
      "\u001b[1;31mnotebook controller is DISPOSED. \n",
      "\u001b[1;31mView Jupyter <a href='command:jupyter.viewOutput'>log</a> for further details."
     ]
    },
    {
     "ename": "",
     "evalue": "",
     "output_type": "error",
     "traceback": [
      "\u001b[1;31mnotebook controller is DISPOSED. \n",
      "\u001b[1;31mView Jupyter <a href='command:jupyter.viewOutput'>log</a> for further details."
     ]
    }
   ],
   "source": [
    "G.add_edges_from([(5, 8), (3, 7)])"
   ]
  },
  {
   "cell_type": "code",
   "execution_count": null,
   "metadata": {},
   "outputs": [
    {
     "ename": "",
     "evalue": "",
     "output_type": "error",
     "traceback": [
      "\u001b[1;31mnotebook controller is DISPOSED. \n",
      "\u001b[1;31mView Jupyter <a href='command:jupyter.viewOutput'>log</a> for further details."
     ]
    },
    {
     "ename": "",
     "evalue": "",
     "output_type": "error",
     "traceback": [
      "\u001b[1;31mnotebook controller is DISPOSED. \n",
      "\u001b[1;31mView Jupyter <a href='command:jupyter.viewOutput'>log</a> for further details."
     ]
    },
    {
     "ename": "",
     "evalue": "",
     "output_type": "error",
     "traceback": [
      "\u001b[1;31mnotebook controller is DISPOSED. \n",
      "\u001b[1;31mView Jupyter <a href='command:jupyter.viewOutput'>log</a> for further details."
     ]
    }
   ],
   "source": []
  }
 ],
 "metadata": {
  "kernelspec": {
   "display_name": "Python 3.10.6 ('capstoneenv')",
   "language": "python",
   "name": "python3"
  },
  "language_info": {
   "codemirror_mode": {
    "name": "ipython",
    "version": 3
   },
   "file_extension": ".py",
   "mimetype": "text/x-python",
   "name": "python",
   "nbconvert_exporter": "python",
   "pygments_lexer": "ipython3",
   "version": "3.10.6"
  },
  "orig_nbformat": 4,
  "vscode": {
   "interpreter": {
    "hash": "fed43211bc253efdb5d7fa0232daae4698b2ceb3dad0e0df42312da65a5331fe"
   }
  }
 },
 "nbformat": 4,
 "nbformat_minor": 2
}
