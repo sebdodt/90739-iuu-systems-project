{
 "cells": [
  {
   "cell_type": "code",
   "execution_count": 111,
   "metadata": {},
   "outputs": [],
   "source": [
    "import pandas as pd\n",
    "import numpy as np"
   ]
  },
  {
   "cell_type": "code",
   "execution_count": 274,
   "metadata": {},
   "outputs": [
    {
     "name": "stderr",
     "output_type": "stream",
     "text": [
      "/var/folders/8z/3jxkd1111yv6m0gf9g9kqmdr0000gn/T/ipykernel_79725/2823976219.py:1: DtypeWarning: Columns (43,45,48,55) have mixed types. Specify dtype option on import or set low_memory=False.\n",
      "  encounters = pd.read_csv('/Users/sebastiandodt/OneDrive/Uni/Carnegie Mellon University/Modules/2022 Fall/Systems Project/Coding/90739-iuu-systems-project/pipeline/data/unified/encounters.csv')\n",
      "/var/folders/8z/3jxkd1111yv6m0gf9g9kqmdr0000gn/T/ipykernel_79725/2823976219.py:2: DtypeWarning: Columns (11,12,13,14,15,42,43,44,47,52) have mixed types. Specify dtype option on import or set low_memory=False.\n",
      "  loitering = pd.read_csv('/Users/sebastiandodt/OneDrive/Uni/Carnegie Mellon University/Modules/2022 Fall/Systems Project/Coding/90739-iuu-systems-project/pipeline/data/unified/loitering.csv')\n",
      "/var/folders/8z/3jxkd1111yv6m0gf9g9kqmdr0000gn/T/ipykernel_79725/2823976219.py:3: DtypeWarning: Columns (16,17,18,19,22,27,30,33,34,35,38,39,42,43,44,47,48,51,52) have mixed types. Specify dtype option on import or set low_memory=False.\n",
      "  port_visits = pd.read_csv('/Users/sebastiandodt/OneDrive/Uni/Carnegie Mellon University/Modules/2022 Fall/Systems Project/Coding/90739-iuu-systems-project/pipeline/data/unified/port_visit.csv')\n"
     ]
    }
   ],
   "source": [
    "encounters = pd.read_csv('/Users/sebastiandodt/OneDrive/Uni/Carnegie Mellon University/Modules/2022 Fall/Systems Project/Coding/90739-iuu-systems-project/pipeline/data/unified/encounters.csv')\n",
    "loitering = pd.read_csv('/Users/sebastiandodt/OneDrive/Uni/Carnegie Mellon University/Modules/2022 Fall/Systems Project/Coding/90739-iuu-systems-project/pipeline/data/unified/loitering.csv')\n",
    "port_visits = pd.read_csv('/Users/sebastiandodt/OneDrive/Uni/Carnegie Mellon University/Modules/2022 Fall/Systems Project/Coding/90739-iuu-systems-project/pipeline/data/unified/port_visit.csv')"
   ]
  },
  {
   "cell_type": "code",
   "execution_count": 275,
   "metadata": {},
   "outputs": [],
   "source": [
    "mmsi = pd.read_csv('/Users/sebastiandodt/Desktop/final table (1).csv')\n",
    "# unique = loitering.groupby('vessel.mmsi')['vessel.name','vessel.flag'].drop_duplicates()\n",
    "# mmsi = mmsi.merge(unique, how='left',right_on='vessel.mmsi', left_on='mmsi')\n",
    "mmsi.sort_values('loitering', ascending=False, inplace=True)\n",
    "top_100_loiterers = mmsi['mmsi'].head(200)"
   ]
  },
  {
   "cell_type": "code",
   "execution_count": 276,
   "metadata": {},
   "outputs": [],
   "source": [
    "top_100_names = mmsi['Name'].head(200)\n",
    "top_100_flags = mmsi['Flag'].head(200).reset_index(drop=True)"
   ]
  },
  {
   "cell_type": "code",
   "execution_count": 277,
   "metadata": {},
   "outputs": [
    {
     "data": {
      "text/plain": [
       "1766              Hrizolit\n",
       "2469               Moneron\n",
       "2436    Vsevolod Sibirtsev\n",
       "2511                Kondor\n",
       "2085              Agnes 83\n",
       "               ...        \n",
       "366                Yachiyo\n",
       "1344        Fwu Maan No.99\n",
       "1626                   NaN\n",
       "2054        Sanwa Fontaine\n",
       "623                  Seiyu\n",
       "Name: Name, Length: 200, dtype: object"
      ]
     },
     "execution_count": 277,
     "metadata": {},
     "output_type": "execute_result"
    }
   ],
   "source": [
    "top_100_names"
   ]
  },
  {
   "cell_type": "code",
   "execution_count": 278,
   "metadata": {},
   "outputs": [],
   "source": [
    "# top_100_loiterers = loitering.loc[loitering['start'] >= '2020-01-01','vessel.id']\n",
    "encounters = encounters.loc[encounters['vessel.mmsi'].isin(top_100_loiterers),:]"
   ]
  },
  {
   "cell_type": "code",
   "execution_count": 279,
   "metadata": {},
   "outputs": [
    {
     "data": {
      "text/html": [
       "<div>\n",
       "<style scoped>\n",
       "    .dataframe tbody tr th:only-of-type {\n",
       "        vertical-align: middle;\n",
       "    }\n",
       "\n",
       "    .dataframe tbody tr th {\n",
       "        vertical-align: top;\n",
       "    }\n",
       "\n",
       "    .dataframe thead th {\n",
       "        text-align: right;\n",
       "    }\n",
       "</style>\n",
       "<table border=\"1\" class=\"dataframe\">\n",
       "  <thead>\n",
       "    <tr style=\"text-align: right;\">\n",
       "      <th></th>\n",
       "      <th>Unnamed: 0</th>\n",
       "      <th>id</th>\n",
       "      <th>type</th>\n",
       "      <th>start</th>\n",
       "      <th>end</th>\n",
       "      <th>lat</th>\n",
       "      <th>lon</th>\n",
       "      <th>vessel.id</th>\n",
       "      <th>vessel.type</th>\n",
       "      <th>vessel.mmsi</th>\n",
       "      <th>...</th>\n",
       "      <th>major_fao</th>\n",
       "      <th>eez12nm</th>\n",
       "      <th>boundingBox</th>\n",
       "      <th>startDistanceFromShoreKm</th>\n",
       "      <th>endDistanceFromShoreKm</th>\n",
       "      <th>startDistanceFromPortKm</th>\n",
       "      <th>endDistanceFromPortKm</th>\n",
       "      <th>medianDistanceKilometers</th>\n",
       "      <th>medianSpeedKnots</th>\n",
       "      <th>encounter_type</th>\n",
       "    </tr>\n",
       "  </thead>\n",
       "  <tbody>\n",
       "    <tr>\n",
       "      <th>337</th>\n",
       "      <td>337</td>\n",
       "      <td>195270cf3aa32852739fc059cd8dab6e.1</td>\n",
       "      <td>encounter</td>\n",
       "      <td>2021-08-31 04:30:00</td>\n",
       "      <td>2021-08-31 07:50:00</td>\n",
       "      <td>-27.645324</td>\n",
       "      <td>39.416839</td>\n",
       "      <td>035a653cf-fb0c-a148-4f7b-8dfaf2a806f8</td>\n",
       "      <td>carrier</td>\n",
       "      <td>416308000</td>\n",
       "      <td>...</td>\n",
       "      <td>NaN</td>\n",
       "      <td>NaN</td>\n",
       "      <td>NaN</td>\n",
       "      <td>NaN</td>\n",
       "      <td>NaN</td>\n",
       "      <td>NaN</td>\n",
       "      <td>NaN</td>\n",
       "      <td>NaN</td>\n",
       "      <td>NaN</td>\n",
       "      <td>NaN</td>\n",
       "    </tr>\n",
       "    <tr>\n",
       "      <th>338</th>\n",
       "      <td>338</td>\n",
       "      <td>570e70992d66e22407b21727843d50d0.1</td>\n",
       "      <td>encounter</td>\n",
       "      <td>2020-08-31 16:30:00</td>\n",
       "      <td>2020-08-31 21:10:00</td>\n",
       "      <td>-29.433449</td>\n",
       "      <td>52.107067</td>\n",
       "      <td>035a653cf-fb0c-a148-4f7b-8dfaf2a806f8</td>\n",
       "      <td>carrier</td>\n",
       "      <td>416308000</td>\n",
       "      <td>...</td>\n",
       "      <td>NaN</td>\n",
       "      <td>NaN</td>\n",
       "      <td>NaN</td>\n",
       "      <td>NaN</td>\n",
       "      <td>NaN</td>\n",
       "      <td>NaN</td>\n",
       "      <td>NaN</td>\n",
       "      <td>NaN</td>\n",
       "      <td>NaN</td>\n",
       "      <td>NaN</td>\n",
       "    </tr>\n",
       "    <tr>\n",
       "      <th>339</th>\n",
       "      <td>339</td>\n",
       "      <td>0faa999e2a86ba9e226b1ce90b2ecf50.1</td>\n",
       "      <td>encounter</td>\n",
       "      <td>2020-08-08 02:00:00</td>\n",
       "      <td>2020-08-08 04:40:00</td>\n",
       "      <td>-27.913625</td>\n",
       "      <td>85.006716</td>\n",
       "      <td>035a653cf-fb0c-a148-4f7b-8dfaf2a806f8</td>\n",
       "      <td>carrier</td>\n",
       "      <td>416308000</td>\n",
       "      <td>...</td>\n",
       "      <td>NaN</td>\n",
       "      <td>NaN</td>\n",
       "      <td>NaN</td>\n",
       "      <td>NaN</td>\n",
       "      <td>NaN</td>\n",
       "      <td>NaN</td>\n",
       "      <td>NaN</td>\n",
       "      <td>NaN</td>\n",
       "      <td>NaN</td>\n",
       "      <td>NaN</td>\n",
       "    </tr>\n",
       "    <tr>\n",
       "      <th>340</th>\n",
       "      <td>340</td>\n",
       "      <td>c4f7d3b6a77801b6e6be4c9fb1790498.1</td>\n",
       "      <td>encounter</td>\n",
       "      <td>2017-05-27 04:00:00</td>\n",
       "      <td>2017-05-27 10:00:00</td>\n",
       "      <td>-36.574471</td>\n",
       "      <td>29.383524</td>\n",
       "      <td>035a653cf-fb0c-a148-4f7b-8dfaf2a806f8</td>\n",
       "      <td>carrier</td>\n",
       "      <td>416308000</td>\n",
       "      <td>...</td>\n",
       "      <td>NaN</td>\n",
       "      <td>NaN</td>\n",
       "      <td>NaN</td>\n",
       "      <td>NaN</td>\n",
       "      <td>NaN</td>\n",
       "      <td>NaN</td>\n",
       "      <td>NaN</td>\n",
       "      <td>NaN</td>\n",
       "      <td>NaN</td>\n",
       "      <td>NaN</td>\n",
       "    </tr>\n",
       "    <tr>\n",
       "      <th>341</th>\n",
       "      <td>341</td>\n",
       "      <td>8285c3863be7f8e8704136aba0181ee2.1</td>\n",
       "      <td>encounter</td>\n",
       "      <td>2019-08-10 00:00:00</td>\n",
       "      <td>2019-08-10 03:20:00</td>\n",
       "      <td>-33.425579</td>\n",
       "      <td>38.507351</td>\n",
       "      <td>035a653cf-fb0c-a148-4f7b-8dfaf2a806f8</td>\n",
       "      <td>carrier</td>\n",
       "      <td>416308000</td>\n",
       "      <td>...</td>\n",
       "      <td>NaN</td>\n",
       "      <td>NaN</td>\n",
       "      <td>NaN</td>\n",
       "      <td>NaN</td>\n",
       "      <td>NaN</td>\n",
       "      <td>NaN</td>\n",
       "      <td>NaN</td>\n",
       "      <td>NaN</td>\n",
       "      <td>NaN</td>\n",
       "      <td>NaN</td>\n",
       "    </tr>\n",
       "    <tr>\n",
       "      <th>...</th>\n",
       "      <td>...</td>\n",
       "      <td>...</td>\n",
       "      <td>...</td>\n",
       "      <td>...</td>\n",
       "      <td>...</td>\n",
       "      <td>...</td>\n",
       "      <td>...</td>\n",
       "      <td>...</td>\n",
       "      <td>...</td>\n",
       "      <td>...</td>\n",
       "      <td>...</td>\n",
       "      <td>...</td>\n",
       "      <td>...</td>\n",
       "      <td>...</td>\n",
       "      <td>...</td>\n",
       "      <td>...</td>\n",
       "      <td>...</td>\n",
       "      <td>...</td>\n",
       "      <td>...</td>\n",
       "      <td>...</td>\n",
       "      <td>...</td>\n",
       "    </tr>\n",
       "    <tr>\n",
       "      <th>59350</th>\n",
       "      <td>118270</td>\n",
       "      <td>6a918ff8a1db0ddf6a608b6b568da05a.1</td>\n",
       "      <td>encounter</td>\n",
       "      <td>2022-10-30 11:00:00</td>\n",
       "      <td>2022-10-30 17:50:00</td>\n",
       "      <td>-17.717200</td>\n",
       "      <td>-81.129500</td>\n",
       "      <td>419f86154-47a9-ac44-cd69-0b988947e61c</td>\n",
       "      <td>carrier</td>\n",
       "      <td>412421088</td>\n",
       "      <td>...</td>\n",
       "      <td>87.0</td>\n",
       "      <td>NaN</td>\n",
       "      <td>-81.1294788791535, -17.7172316781731, -81.1294...</td>\n",
       "      <td>650.0</td>\n",
       "      <td>650.0</td>\n",
       "      <td>676.851312</td>\n",
       "      <td>676.851312</td>\n",
       "      <td>0.059</td>\n",
       "      <td>0.801</td>\n",
       "      <td>carrier-fishing</td>\n",
       "    </tr>\n",
       "    <tr>\n",
       "      <th>59352</th>\n",
       "      <td>118275</td>\n",
       "      <td>7acd9ad8941ebf5445a9d1a8f2644807.1</td>\n",
       "      <td>encounter</td>\n",
       "      <td>2022-10-30 11:30:00</td>\n",
       "      <td>2022-10-30 14:40:00</td>\n",
       "      <td>-17.475000</td>\n",
       "      <td>-80.893300</td>\n",
       "      <td>0bc5c51c9-9c68-0015-aa73-f3f459a498be</td>\n",
       "      <td>carrier</td>\n",
       "      <td>636018227</td>\n",
       "      <td>...</td>\n",
       "      <td>87.0</td>\n",
       "      <td>NaN</td>\n",
       "      <td>-80.8932585728, -17.4750150147, -80.8932585728...</td>\n",
       "      <td>614.0</td>\n",
       "      <td>614.0</td>\n",
       "      <td>640.268375</td>\n",
       "      <td>640.268375</td>\n",
       "      <td>0.035</td>\n",
       "      <td>1.260</td>\n",
       "      <td>carrier-fishing</td>\n",
       "    </tr>\n",
       "    <tr>\n",
       "      <th>59355</th>\n",
       "      <td>118281</td>\n",
       "      <td>d964b6c994719ee27fe15fa9994f02bd.2</td>\n",
       "      <td>encounter</td>\n",
       "      <td>2022-10-30 14:10:00</td>\n",
       "      <td>2022-10-30 18:50:00</td>\n",
       "      <td>-17.626800</td>\n",
       "      <td>-80.831100</td>\n",
       "      <td>8979d35a8-8b6b-073e-ba6c-d94fdbaac20a</td>\n",
       "      <td>carrier</td>\n",
       "      <td>354003000</td>\n",
       "      <td>...</td>\n",
       "      <td>87.0</td>\n",
       "      <td>NaN</td>\n",
       "      <td>-80.8310806246053, -17.62678010372, -80.831080...</td>\n",
       "      <td>618.0</td>\n",
       "      <td>618.0</td>\n",
       "      <td>646.069062</td>\n",
       "      <td>646.069062</td>\n",
       "      <td>0.041</td>\n",
       "      <td>1.137</td>\n",
       "      <td>carrier-fishing</td>\n",
       "    </tr>\n",
       "    <tr>\n",
       "      <th>59357</th>\n",
       "      <td>118284</td>\n",
       "      <td>ba399f5092bed2fdb4be92fa65b545ae.1</td>\n",
       "      <td>encounter</td>\n",
       "      <td>2022-10-30 15:20:00</td>\n",
       "      <td>2022-10-30 21:30:00</td>\n",
       "      <td>-17.590800</td>\n",
       "      <td>-80.866000</td>\n",
       "      <td>8979d35a8-8b6b-073e-ba6c-d94fdbaac20a</td>\n",
       "      <td>carrier</td>\n",
       "      <td>354003000</td>\n",
       "      <td>...</td>\n",
       "      <td>87.0</td>\n",
       "      <td>NaN</td>\n",
       "      <td>-80.8660174432, -17.5907806122, -80.8660174432...</td>\n",
       "      <td>619.0</td>\n",
       "      <td>619.0</td>\n",
       "      <td>646.423625</td>\n",
       "      <td>646.423625</td>\n",
       "      <td>0.053</td>\n",
       "      <td>1.264</td>\n",
       "      <td>carrier-fishing</td>\n",
       "    </tr>\n",
       "    <tr>\n",
       "      <th>59360</th>\n",
       "      <td>118291</td>\n",
       "      <td>9c0c94c12a4614399b396aaed95ea500.1</td>\n",
       "      <td>encounter</td>\n",
       "      <td>2022-10-30 18:20:00</td>\n",
       "      <td>2022-10-30 21:40:00</td>\n",
       "      <td>-17.767200</td>\n",
       "      <td>-81.112400</td>\n",
       "      <td>0bc5c51c9-9c68-0015-aa73-f3f459a498be</td>\n",
       "      <td>carrier</td>\n",
       "      <td>636018227</td>\n",
       "      <td>...</td>\n",
       "      <td>87.0</td>\n",
       "      <td>NaN</td>\n",
       "      <td>-81.1123629956, -17.76723656205, -81.112362995...</td>\n",
       "      <td>651.0</td>\n",
       "      <td>651.0</td>\n",
       "      <td>678.767375</td>\n",
       "      <td>678.767375</td>\n",
       "      <td>0.040</td>\n",
       "      <td>1.063</td>\n",
       "      <td>carrier-fishing</td>\n",
       "    </tr>\n",
       "  </tbody>\n",
       "</table>\n",
       "<p>29984 rows × 56 columns</p>\n",
       "</div>"
      ],
      "text/plain": [
       "       Unnamed: 0                                  id       type  \\\n",
       "337           337  195270cf3aa32852739fc059cd8dab6e.1  encounter   \n",
       "338           338  570e70992d66e22407b21727843d50d0.1  encounter   \n",
       "339           339  0faa999e2a86ba9e226b1ce90b2ecf50.1  encounter   \n",
       "340           340  c4f7d3b6a77801b6e6be4c9fb1790498.1  encounter   \n",
       "341           341  8285c3863be7f8e8704136aba0181ee2.1  encounter   \n",
       "...           ...                                 ...        ...   \n",
       "59350      118270  6a918ff8a1db0ddf6a608b6b568da05a.1  encounter   \n",
       "59352      118275  7acd9ad8941ebf5445a9d1a8f2644807.1  encounter   \n",
       "59355      118281  d964b6c994719ee27fe15fa9994f02bd.2  encounter   \n",
       "59357      118284  ba399f5092bed2fdb4be92fa65b545ae.1  encounter   \n",
       "59360      118291  9c0c94c12a4614399b396aaed95ea500.1  encounter   \n",
       "\n",
       "                     start                  end        lat        lon  \\\n",
       "337    2021-08-31 04:30:00  2021-08-31 07:50:00 -27.645324  39.416839   \n",
       "338    2020-08-31 16:30:00  2020-08-31 21:10:00 -29.433449  52.107067   \n",
       "339    2020-08-08 02:00:00  2020-08-08 04:40:00 -27.913625  85.006716   \n",
       "340    2017-05-27 04:00:00  2017-05-27 10:00:00 -36.574471  29.383524   \n",
       "341    2019-08-10 00:00:00  2019-08-10 03:20:00 -33.425579  38.507351   \n",
       "...                    ...                  ...        ...        ...   \n",
       "59350  2022-10-30 11:00:00  2022-10-30 17:50:00 -17.717200 -81.129500   \n",
       "59352  2022-10-30 11:30:00  2022-10-30 14:40:00 -17.475000 -80.893300   \n",
       "59355  2022-10-30 14:10:00  2022-10-30 18:50:00 -17.626800 -80.831100   \n",
       "59357  2022-10-30 15:20:00  2022-10-30 21:30:00 -17.590800 -80.866000   \n",
       "59360  2022-10-30 18:20:00  2022-10-30 21:40:00 -17.767200 -81.112400   \n",
       "\n",
       "                                   vessel.id vessel.type  vessel.mmsi  ...  \\\n",
       "337    035a653cf-fb0c-a148-4f7b-8dfaf2a806f8     carrier    416308000  ...   \n",
       "338    035a653cf-fb0c-a148-4f7b-8dfaf2a806f8     carrier    416308000  ...   \n",
       "339    035a653cf-fb0c-a148-4f7b-8dfaf2a806f8     carrier    416308000  ...   \n",
       "340    035a653cf-fb0c-a148-4f7b-8dfaf2a806f8     carrier    416308000  ...   \n",
       "341    035a653cf-fb0c-a148-4f7b-8dfaf2a806f8     carrier    416308000  ...   \n",
       "...                                      ...         ...          ...  ...   \n",
       "59350  419f86154-47a9-ac44-cd69-0b988947e61c     carrier    412421088  ...   \n",
       "59352  0bc5c51c9-9c68-0015-aa73-f3f459a498be     carrier    636018227  ...   \n",
       "59355  8979d35a8-8b6b-073e-ba6c-d94fdbaac20a     carrier    354003000  ...   \n",
       "59357  8979d35a8-8b6b-073e-ba6c-d94fdbaac20a     carrier    354003000  ...   \n",
       "59360  0bc5c51c9-9c68-0015-aa73-f3f459a498be     carrier    636018227  ...   \n",
       "\n",
       "      major_fao eez12nm                                        boundingBox  \\\n",
       "337         NaN     NaN                                                NaN   \n",
       "338         NaN     NaN                                                NaN   \n",
       "339         NaN     NaN                                                NaN   \n",
       "340         NaN     NaN                                                NaN   \n",
       "341         NaN     NaN                                                NaN   \n",
       "...         ...     ...                                                ...   \n",
       "59350      87.0     NaN  -81.1294788791535, -17.7172316781731, -81.1294...   \n",
       "59352      87.0     NaN  -80.8932585728, -17.4750150147, -80.8932585728...   \n",
       "59355      87.0     NaN  -80.8310806246053, -17.62678010372, -80.831080...   \n",
       "59357      87.0     NaN  -80.8660174432, -17.5907806122, -80.8660174432...   \n",
       "59360      87.0     NaN  -81.1123629956, -17.76723656205, -81.112362995...   \n",
       "\n",
       "      startDistanceFromShoreKm endDistanceFromShoreKm startDistanceFromPortKm  \\\n",
       "337                        NaN                    NaN                     NaN   \n",
       "338                        NaN                    NaN                     NaN   \n",
       "339                        NaN                    NaN                     NaN   \n",
       "340                        NaN                    NaN                     NaN   \n",
       "341                        NaN                    NaN                     NaN   \n",
       "...                        ...                    ...                     ...   \n",
       "59350                    650.0                  650.0              676.851312   \n",
       "59352                    614.0                  614.0              640.268375   \n",
       "59355                    618.0                  618.0              646.069062   \n",
       "59357                    619.0                  619.0              646.423625   \n",
       "59360                    651.0                  651.0              678.767375   \n",
       "\n",
       "      endDistanceFromPortKm  medianDistanceKilometers  medianSpeedKnots  \\\n",
       "337                     NaN                       NaN               NaN   \n",
       "338                     NaN                       NaN               NaN   \n",
       "339                     NaN                       NaN               NaN   \n",
       "340                     NaN                       NaN               NaN   \n",
       "341                     NaN                       NaN               NaN   \n",
       "...                     ...                       ...               ...   \n",
       "59350            676.851312                     0.059             0.801   \n",
       "59352            640.268375                     0.035             1.260   \n",
       "59355            646.069062                     0.041             1.137   \n",
       "59357            646.423625                     0.053             1.264   \n",
       "59360            678.767375                     0.040             1.063   \n",
       "\n",
       "        encounter_type  \n",
       "337                NaN  \n",
       "338                NaN  \n",
       "339                NaN  \n",
       "340                NaN  \n",
       "341                NaN  \n",
       "...                ...  \n",
       "59350  carrier-fishing  \n",
       "59352  carrier-fishing  \n",
       "59355  carrier-fishing  \n",
       "59357  carrier-fishing  \n",
       "59360  carrier-fishing  \n",
       "\n",
       "[29984 rows x 56 columns]"
      ]
     },
     "execution_count": 279,
     "metadata": {},
     "output_type": "execute_result"
    }
   ],
   "source": [
    "encounters"
   ]
  },
  {
   "cell_type": "code",
   "execution_count": 115,
   "metadata": {},
   "outputs": [],
   "source": [
    "# n_connections = []\n",
    "# threshold1 = 0\n",
    "# threshold2 = 0\n",
    "# encounters = encounters.loc[encounters['start'] > '2020-01-01',:]\n",
    "# for mmsi in encounters['vessel.mmsi'].unique():\n",
    "#     encounters_of_vessel = encounters.loc[encounters['vessel.mmsi']==mmsi,:]\n",
    "#     fishers = encounters_of_vessel['encounter.encountered_vessel.mmsi']\n",
    "#     encounters_of_fishers = encounters.loc[encounters['encounter.encountered_vessel.mmsi'].isin(fishers),:]\n",
    "#     n_connections.append(len(encounters_of_fishers['vessel.mmsi'].unique()) - 1)"
   ]
  },
  {
   "cell_type": "code",
   "execution_count": 280,
   "metadata": {},
   "outputs": [
    {
     "data": {
      "text/plain": [
       "array([[271.,   1.,   0., ...,   0., 126.,   3.],\n",
       "       [  2., 177.,   0., ...,   0.,   8.,   0.],\n",
       "       [  0.,   0.,   1., ...,   0.,   0.,   0.],\n",
       "       ...,\n",
       "       [  0.,   0.,   0., ..., 300.,   0.,   0.],\n",
       "       [120.,   7.,   0., ...,   0., 378.,   1.],\n",
       "       [  1.,   0.,   0., ...,   0.,   1.,  37.]])"
      ]
     },
     "execution_count": 280,
     "metadata": {},
     "output_type": "execute_result"
    }
   ],
   "source": [
    "ship_indices = list(encounters['vessel.mmsi'].unique())\n",
    "E = np.zeros((len(ship_indices),len(ship_indices)))\n",
    "for x in range(len(ship_indices)):\n",
    "    for y in range(len(ship_indices)):\n",
    "        encounters_of_y = encounters.loc[encounters['vessel.mmsi']==ship_indices[y],:]\n",
    "        fishers_of_y = encounters_of_y['encounter.encountered_vessel.mmsi']\n",
    "        encounters_of_fishers = encounters.loc[encounters['encounter.encountered_vessel.mmsi'].isin(fishers_of_y),:]\n",
    "        encounters_of_x = len(encounters_of_fishers.loc[encounters_of_fishers['vessel.mmsi']==ship_indices[x],:])\n",
    "        E[x,y] = encounters_of_x\n",
    "\n",
    "E"
   ]
  },
  {
   "cell_type": "code",
   "execution_count": 281,
   "metadata": {},
   "outputs": [
    {
     "data": {
      "text/plain": [
       "(170, 170)"
      ]
     },
     "execution_count": 281,
     "metadata": {},
     "output_type": "execute_result"
    }
   ],
   "source": [
    "E.shape"
   ]
  },
  {
   "cell_type": "code",
   "execution_count": 117,
   "metadata": {},
   "outputs": [],
   "source": [
    "import gurobipy as gp\n",
    "from gurobipy import *"
   ]
  },
  {
   "cell_type": "code",
   "execution_count": 118,
   "metadata": {},
   "outputs": [],
   "source": [
    "clusters_idx = range(len(ship_indices))\n",
    "ship_idx = range(len(ship_indices))\n",
    "M = 10**10"
   ]
  },
  {
   "cell_type": "code",
   "execution_count": 119,
   "metadata": {},
   "outputs": [],
   "source": [
    "model = gp.Model()\n",
    "Y = model.addVars(clusters_idx, vtype = GRB.BINARY) \n",
    "a = model.addVars(ship_idx,clusters_idx, vtype = GRB.BINARY)"
   ]
  },
  {
   "cell_type": "code",
   "execution_count": 120,
   "metadata": {},
   "outputs": [],
   "source": [
    "model.setObjective(\n",
    "    sum(\n",
    "        Y[c]\n",
    "        for c in clusters_idx)\n",
    ")\n",
    "model.modelSense = GRB.MAXIMIZE"
   ]
  },
  {
   "cell_type": "code",
   "execution_count": 121,
   "metadata": {},
   "outputs": [],
   "source": [
    "for c in clusters_idx:\n",
    "    model.addConstr(\n",
    "        Y[c] <= sum(a[s,c] for s in ship_idx)\n",
    "    )"
   ]
  },
  {
   "cell_type": "code",
   "execution_count": 122,
   "metadata": {},
   "outputs": [],
   "source": [
    "for s1 in ship_idx:\n",
    "    for s2 in ship_idx:\n",
    "        for c in clusters_idx:\n",
    "            model.addConstr(\n",
    "                (a[s1,c] * a[s2,c]) * M >= E[s1,s2]\n",
    "            )"
   ]
  },
  {
   "cell_type": "code",
   "execution_count": 123,
   "metadata": {},
   "outputs": [],
   "source": [
    "for s in ship_idx:\n",
    "    model.addConstr(\n",
    "        sum(\n",
    "            a[s,c]\n",
    "            for c in clusters_idx\n",
    "        ) <= 1\n",
    "    )"
   ]
  },
  {
   "cell_type": "code",
   "execution_count": 124,
   "metadata": {},
   "outputs": [
    {
     "name": "stdout",
     "output_type": "stream",
     "text": [
      "Gurobi Optimizer version 9.5.2 build v9.5.2rc0 (mac64[rosetta2])\n",
      "Thread count: 8 physical cores, 8 logical processors, using up to 8 threads\n",
      "Optimize a model with 1124 rows, 316406 columns and 632250 nonzeros\n",
      "Model fingerprint: 0xf6794b3d\n",
      "Model has 177504328 quadratic constraints\n",
      "Variable types: 0 continuous, 316406 integer (316406 binary)\n",
      "Coefficient statistics:\n",
      "  Matrix range     [1e+00, 1e+00]\n",
      "  QMatrix range    [1e+10, 1e+10]\n",
      "  Objective range  [1e+00, 1e+00]\n",
      "  Bounds range     [1e+00, 1e+00]\n",
      "  RHS range        [1e+00, 1e+00]\n",
      "  QRHS range       [1e+00, 9e+02]\n",
      "Warning: Quadratic constraints contain large coefficients\n",
      "         Consider reformulating model or setting NumericFocus parameter\n",
      "         to avoid numerical issues.\n",
      "Presolve removed 0 rows and 0 columns (presolve time = 12s) ...\n",
      "Presolve removed 0 rows and 0 columns (presolve time = 44s) ...\n",
      "Presolve removed 0 rows and 214684 columns\n",
      "Presolve time: 43.89s\n",
      "\n",
      "Explored 0 nodes (0 simplex iterations) in 49.90 seconds (15.29 work units)\n",
      "Thread count was 1 (of 8 available processors)\n",
      "\n",
      "Solution count 0\n",
      "No other solutions better than -1e+100\n",
      "\n",
      "Model is infeasible\n",
      "Best objective -, best bound -, gap -\n"
     ]
    }
   ],
   "source": [
    "model.optimize()"
   ]
  },
  {
   "cell_type": "code",
   "execution_count": 128,
   "metadata": {},
   "outputs": [
    {
     "ename": "AttributeError",
     "evalue": "Unable to retrieve attribute 'x'",
     "output_type": "error",
     "traceback": [
      "\u001b[0;31m---------------------------------------------------------------------------\u001b[0m",
      "\u001b[0;31mAttributeError\u001b[0m                            Traceback (most recent call last)",
      "Cell \u001b[0;32mIn [128], line 1\u001b[0m\n\u001b[0;32m----> 1\u001b[0m a[\u001b[39m0\u001b[39m,\u001b[39m0\u001b[39m]\u001b[39m.\u001b[39mx\n",
      "File \u001b[0;32msrc/gurobipy/var.pxi:125\u001b[0m, in \u001b[0;36mgurobipy.Var.__getattr__\u001b[0;34m()\u001b[0m\n",
      "File \u001b[0;32msrc/gurobipy/var.pxi:153\u001b[0m, in \u001b[0;36mgurobipy.Var.getAttr\u001b[0;34m()\u001b[0m\n",
      "File \u001b[0;32msrc/gurobipy/attrutil.pxi:100\u001b[0m, in \u001b[0;36mgurobipy.__getattr\u001b[0;34m()\u001b[0m\n",
      "\u001b[0;31mAttributeError\u001b[0m: Unable to retrieve attribute 'x'"
     ]
    }
   ],
   "source": [
    "a[0,0].x"
   ]
  },
  {
   "cell_type": "code",
   "execution_count": 129,
   "metadata": {},
   "outputs": [],
   "source": [
    "pd.DataFrame(E).to_csv('combinations.csv')"
   ]
  },
  {
   "cell_type": "code",
   "execution_count": 181,
   "metadata": {},
   "outputs": [],
   "source": [
    "from pyvis.network import Network\n",
    "import networkx as nx"
   ]
  },
  {
   "cell_type": "code",
   "execution_count": 220,
   "metadata": {},
   "outputs": [],
   "source": []
  },
  {
   "cell_type": "code",
   "execution_count": 283,
   "metadata": {},
   "outputs": [
    {
     "name": "stdout",
     "output_type": "stream",
     "text": [
      "Local cdn resources have problems on chrome/safari when used in jupyter-notebook. \n"
     ]
    },
    {
     "data": {
      "text/html": [
       "\n",
       "        <iframe\n",
       "            width=\"100%\"\n",
       "            height=\"600px\"\n",
       "            src=\"test5.html\"\n",
       "            frameborder=\"0\"\n",
       "            allowfullscreen\n",
       "            \n",
       "        ></iframe>\n",
       "        "
      ],
      "text/plain": [
       "<IPython.lib.display.IFrame at 0xb719c3880>"
      ]
     },
     "execution_count": 283,
     "metadata": {},
     "output_type": "execute_result"
    }
   ],
   "source": [
    "# G.add_node(ship_idx)\n",
    "G = nx.Graph()\n",
    "ship_idx = range(len(ship_indices))\n",
    "for i in ship_idx:\n",
    "    if top_100_flags[i] == 'Russia':\n",
    "        color = 'red'\n",
    "    else:\n",
    "        color = 'blue'\n",
    "    G.add_node(\n",
    "        i, \n",
    "        label=top_100_names.reset_index(drop=True)[i],\n",
    "        color=color)\n",
    "for i in ship_idx:\n",
    "    for j in ship_idx:\n",
    "        if i > j:\n",
    "            if (E[i,j]+E[i,j]) > 160:\n",
    "                # print(E[i,j])\n",
    "                G.add_edge(i,j,weight=(E[i,j]+E[j,i])/80)\n",
    "net = Network(notebook=True)\n",
    "net.from_nx(G)\n",
    "net.show('test5.html')"
   ]
  },
  {
   "cell_type": "code",
   "execution_count": 242,
   "metadata": {},
   "outputs": [
    {
     "data": {
      "text/plain": [
       "RUS    100\n",
       "Name: vessel.flag, dtype: int64"
      ]
     },
     "execution_count": 242,
     "metadata": {},
     "output_type": "execute_result"
    }
   ],
   "source": [
    "top_100_flags.value_counts()"
   ]
  },
  {
   "cell_type": "code",
   "execution_count": 145,
   "metadata": {},
   "outputs": [],
   "source": [
    "# H = (5, 7, {'weight': 3.1415})\n",
    "G.add_edge(5, 7, weight=4.7 )"
   ]
  },
  {
   "cell_type": "code",
   "execution_count": 139,
   "metadata": {},
   "outputs": [
    {
     "data": {
      "text/plain": [
       "<networkx.classes.graph.Graph at 0xaddcef940>"
      ]
     },
     "execution_count": 139,
     "metadata": {},
     "output_type": "execute_result"
    }
   ],
   "source": [
    "G"
   ]
  },
  {
   "cell_type": "code",
   "execution_count": 140,
   "metadata": {},
   "outputs": [],
   "source": [
    "G.add_nodes_from(range(10))\n"
   ]
  },
  {
   "cell_type": "code",
   "execution_count": 142,
   "metadata": {},
   "outputs": [],
   "source": [
    "G.add_edges_from([(5, 8), (3, 7)])"
   ]
  },
  {
   "cell_type": "code",
   "execution_count": null,
   "metadata": {},
   "outputs": [],
   "source": []
  }
 ],
 "metadata": {
  "kernelspec": {
   "display_name": "Python 3.10.6 ('capstoneenv')",
   "language": "python",
   "name": "python3"
  },
  "language_info": {
   "codemirror_mode": {
    "name": "ipython",
    "version": 3
   },
   "file_extension": ".py",
   "mimetype": "text/x-python",
   "name": "python",
   "nbconvert_exporter": "python",
   "pygments_lexer": "ipython3",
   "version": "3.10.6"
  },
  "orig_nbformat": 4,
  "vscode": {
   "interpreter": {
    "hash": "fed43211bc253efdb5d7fa0232daae4698b2ceb3dad0e0df42312da65a5331fe"
   }
  }
 },
 "nbformat": 4,
 "nbformat_minor": 2
}
