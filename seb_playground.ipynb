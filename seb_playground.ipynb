{
 "cells": [
  {
   "cell_type": "code",
   "execution_count": 20,
   "metadata": {},
   "outputs": [],
   "source": [
    "import pandas as pd\n",
    "import seaborn as sns\n",
    "import matplotlib.pyplot as plt"
   ]
  },
  {
   "cell_type": "code",
   "execution_count": 53,
   "metadata": {},
   "outputs": [],
   "source": [
    "df = pd.read_csv('/Users/sebastiandodt/Downloads/HouseType.csv')"
   ]
  },
  {
   "cell_type": "code",
   "execution_count": 54,
   "metadata": {},
   "outputs": [
    {
     "data": {
      "text/html": [
       "<div>\n",
       "<style scoped>\n",
       "    .dataframe tbody tr th:only-of-type {\n",
       "        vertical-align: middle;\n",
       "    }\n",
       "\n",
       "    .dataframe tbody tr th {\n",
       "        vertical-align: top;\n",
       "    }\n",
       "\n",
       "    .dataframe thead th {\n",
       "        text-align: right;\n",
       "    }\n",
       "</style>\n",
       "<table border=\"1\" class=\"dataframe\">\n",
       "  <thead>\n",
       "    <tr style=\"text-align: right;\">\n",
       "      <th></th>\n",
       "      <th>GEO_ID</th>\n",
       "      <th>TOTAL_UNITS</th>\n",
       "      <th>ONE_DETACH</th>\n",
       "      <th>ONE_ATTACH</th>\n",
       "      <th>TWO_UNITS</th>\n",
       "      <th>THREE_OR_FOUR</th>\n",
       "      <th>FIVE_TO_NINE</th>\n",
       "      <th>TEN_TO_19</th>\n",
       "      <th>20_TO_49</th>\n",
       "      <th>50_OR_MORE</th>\n",
       "    </tr>\n",
       "  </thead>\n",
       "  <tbody>\n",
       "    <tr>\n",
       "      <th>0</th>\n",
       "      <td>1500000US110010001011</td>\n",
       "      <td>844</td>\n",
       "      <td>0</td>\n",
       "      <td>226</td>\n",
       "      <td>0</td>\n",
       "      <td>66</td>\n",
       "      <td>0</td>\n",
       "      <td>0</td>\n",
       "      <td>97</td>\n",
       "      <td>455</td>\n",
       "    </tr>\n",
       "    <tr>\n",
       "      <th>1</th>\n",
       "      <td>1500000US110010001021</td>\n",
       "      <td>964</td>\n",
       "      <td>95</td>\n",
       "      <td>432</td>\n",
       "      <td>138</td>\n",
       "      <td>142</td>\n",
       "      <td>27</td>\n",
       "      <td>23</td>\n",
       "      <td>61</td>\n",
       "      <td>46</td>\n",
       "    </tr>\n",
       "    <tr>\n",
       "      <th>2</th>\n",
       "      <td>1500000US110010001022</td>\n",
       "      <td>496</td>\n",
       "      <td>80</td>\n",
       "      <td>321</td>\n",
       "      <td>37</td>\n",
       "      <td>0</td>\n",
       "      <td>5</td>\n",
       "      <td>11</td>\n",
       "      <td>28</td>\n",
       "      <td>14</td>\n",
       "    </tr>\n",
       "    <tr>\n",
       "      <th>3</th>\n",
       "      <td>1500000US110010001023</td>\n",
       "      <td>533</td>\n",
       "      <td>76</td>\n",
       "      <td>203</td>\n",
       "      <td>12</td>\n",
       "      <td>9</td>\n",
       "      <td>49</td>\n",
       "      <td>0</td>\n",
       "      <td>31</td>\n",
       "      <td>153</td>\n",
       "    </tr>\n",
       "    <tr>\n",
       "      <th>4</th>\n",
       "      <td>1500000US110010002011</td>\n",
       "      <td>0</td>\n",
       "      <td>0</td>\n",
       "      <td>0</td>\n",
       "      <td>0</td>\n",
       "      <td>0</td>\n",
       "      <td>0</td>\n",
       "      <td>0</td>\n",
       "      <td>0</td>\n",
       "      <td>0</td>\n",
       "    </tr>\n",
       "    <tr>\n",
       "      <th>5</th>\n",
       "      <td>1500000US110010002012</td>\n",
       "      <td>0</td>\n",
       "      <td>0</td>\n",
       "      <td>0</td>\n",
       "      <td>0</td>\n",
       "      <td>0</td>\n",
       "      <td>0</td>\n",
       "      <td>0</td>\n",
       "      <td>0</td>\n",
       "      <td>0</td>\n",
       "    </tr>\n",
       "  </tbody>\n",
       "</table>\n",
       "</div>"
      ],
      "text/plain": [
       "                  GEO_ID  TOTAL_UNITS  ONE_DETACH  ONE_ATTACH  TWO_UNITS  \\\n",
       "0  1500000US110010001011          844           0         226          0   \n",
       "1  1500000US110010001021          964          95         432        138   \n",
       "2  1500000US110010001022          496          80         321         37   \n",
       "3  1500000US110010001023          533          76         203         12   \n",
       "4  1500000US110010002011            0           0           0          0   \n",
       "5  1500000US110010002012            0           0           0          0   \n",
       "\n",
       "   THREE_OR_FOUR  FIVE_TO_NINE  TEN_TO_19  20_TO_49  50_OR_MORE  \n",
       "0             66             0          0        97         455  \n",
       "1            142            27         23        61          46  \n",
       "2              0             5         11        28          14  \n",
       "3              9            49          0        31         153  \n",
       "4              0             0          0         0           0  \n",
       "5              0             0          0         0           0  "
      ]
     },
     "execution_count": 54,
     "metadata": {},
     "output_type": "execute_result"
    }
   ],
   "source": [
    "df.head(6)"
   ]
  },
  {
   "cell_type": "code",
   "execution_count": 55,
   "metadata": {},
   "outputs": [
    {
     "data": {
      "text/plain": [
       "571"
      ]
     },
     "execution_count": 55,
     "metadata": {},
     "output_type": "execute_result"
    }
   ],
   "source": [
    "len(df)"
   ]
  },
  {
   "cell_type": "code",
   "execution_count": 56,
   "metadata": {},
   "outputs": [],
   "source": [
    "median_n_units = []\n",
    "for i in df['GEO_ID']:\n",
    "    units = []\n",
    "    columns = df.columns[2:]\n",
    "    for c in columns:\n",
    "        add = [c] * int(df.loc[df['GEO_ID']==i,c])\n",
    "        if len(add) > 0:\n",
    "            units += add\n",
    "    if len(units) == 0:\n",
    "        median_n_units.append(\"No data\")\n",
    "    else:\n",
    "        median_index = len(units)//2\n",
    "        median_n_units.append(units[median_index])    \n",
    "df['median_n_units'] = median_n_units\n",
    "\n",
    "median_n_numeric = []\n",
    "for i in range(len(df)):\n",
    "    if df.loc[i,'median_n_units']==\"No data\":\n",
    "        median_n_numeric.append(0)\n",
    "    elif df.loc[i,'median_n_units']==\"ONE_DETACH\":\n",
    "        median_n_numeric.append(1)\n",
    "    elif df.loc[i,'median_n_units']==\"ONE_ATTACH\":\n",
    "        median_n_numeric.append(1.5)\n",
    "    elif df.loc[i,'median_n_units']==\"TWO_UNITS\":\n",
    "        median_n_numeric.append(2)\n",
    "    elif df.loc[i,'median_n_units']==\"THREE_OR_FOUR\":\n",
    "        median_n_numeric.append(3)\n",
    "    elif df.loc[i,'median_n_units']==\"FIVE_TO_NINE\":\n",
    "        median_n_numeric.append(4)\n",
    "    elif df.loc[i,'median_n_units']==\"TEN_TO_19\":\n",
    "        median_n_numeric.append(5)\n",
    "    elif df.loc[i,'median_n_units']==\"20_TO_49\":\n",
    "        median_n_numeric.append(6)\n",
    "    elif df.loc[i,'median_n_units']==\"50_OR_MORE\":\n",
    "        median_n_numeric.append(7)\n",
    "    else:\n",
    "        print(\"something weird is going on...\")\n",
    "\n",
    "df['median_n_numeric'] =median_n_numeric\n",
    "df.to_csv('/Users/sebastiandodt/Downloads/HouseType_with_median.csv')"
   ]
  },
  {
   "cell_type": "code",
   "execution_count": 2,
   "metadata": {},
   "outputs": [],
   "source": [
    "bookings = pd.read_excel('/Users/sebastiandodt/OneDrive/Eslanz/bookings.xlsx')"
   ]
  },
  {
   "cell_type": "code",
   "execution_count": 9,
   "metadata": {},
   "outputs": [],
   "source": [
    "bookings['Dauer'] = bookings.loc[bookings['Buchung storniert']==False,'Abflug'] - bookings.loc[bookings['Buchung storniert']==False,'Ankunft']"
   ]
  },
  {
   "cell_type": "code",
   "execution_count": 13,
   "metadata": {},
   "outputs": [],
   "source": [
    "bookings['Tage'] = bookings['Dauer'].dt.days"
   ]
  },
  {
   "cell_type": "code",
   "execution_count": 18,
   "metadata": {},
   "outputs": [],
   "source": [
    "bookings_this_year = bookings.loc[bookings['Ankunft'] >= '2022-01-01',:]"
   ]
  },
  {
   "cell_type": "code",
   "execution_count": 32,
   "metadata": {},
   "outputs": [
    {
     "data": {
      "text/plain": [
       "<AxesSubplot: xlabel='Tage', ylabel='Count'>"
      ]
     },
     "execution_count": 32,
     "metadata": {},
     "output_type": "execute_result"
    },
    {
     "data": {
      "image/png": "[encoded data removed]",
      "text/plain": [
       "<Figure size 640x480 with 1 Axes>"
      ]
     },
     "metadata": {},
     "output_type": "display_data"
    }
   ],
   "source": [
    "sns.histplot(bookings_this_year, x='Tage', bins=80)\n",
    "# plt.axvline(7,c='black',linestyle='--')"
   ]
  },
  {
   "cell_type": "code",
   "execution_count": 27,
   "metadata": {},
   "outputs": [
    {
     "data": {
      "text/html": [
       "<div>\n",
       "<style scoped>\n",
       "    .dataframe tbody tr th:only-of-type {\n",
       "        vertical-align: middle;\n",
       "    }\n",
       "\n",
       "    .dataframe tbody tr th {\n",
       "        vertical-align: top;\n",
       "    }\n",
       "\n",
       "    .dataframe thead th {\n",
       "        text-align: right;\n",
       "    }\n",
       "</style>\n",
       "<table border=\"1\" class=\"dataframe\">\n",
       "  <thead>\n",
       "    <tr style=\"text-align: right;\">\n",
       "      <th></th>\n",
       "      <th>index</th>\n",
       "      <th>Tage</th>\n",
       "    </tr>\n",
       "  </thead>\n",
       "  <tbody>\n",
       "    <tr>\n",
       "      <th>3</th>\n",
       "      <td>6.0</td>\n",
       "      <td>2</td>\n",
       "    </tr>\n",
       "    <tr>\n",
       "      <th>0</th>\n",
       "      <td>7.0</td>\n",
       "      <td>5</td>\n",
       "    </tr>\n",
       "    <tr>\n",
       "      <th>10</th>\n",
       "      <td>8.0</td>\n",
       "      <td>1</td>\n",
       "    </tr>\n",
       "    <tr>\n",
       "      <th>9</th>\n",
       "      <td>9.0</td>\n",
       "      <td>1</td>\n",
       "    </tr>\n",
       "    <tr>\n",
       "      <th>2</th>\n",
       "      <td>10.0</td>\n",
       "      <td>3</td>\n",
       "    </tr>\n",
       "    <tr>\n",
       "      <th>4</th>\n",
       "      <td>11.0</td>\n",
       "      <td>2</td>\n",
       "    </tr>\n",
       "    <tr>\n",
       "      <th>1</th>\n",
       "      <td>14.0</td>\n",
       "      <td>4</td>\n",
       "    </tr>\n",
       "    <tr>\n",
       "      <th>5</th>\n",
       "      <td>15.0</td>\n",
       "      <td>1</td>\n",
       "    </tr>\n",
       "    <tr>\n",
       "      <th>12</th>\n",
       "      <td>19.0</td>\n",
       "      <td>1</td>\n",
       "    </tr>\n",
       "    <tr>\n",
       "      <th>11</th>\n",
       "      <td>22.0</td>\n",
       "      <td>1</td>\n",
       "    </tr>\n",
       "    <tr>\n",
       "      <th>6</th>\n",
       "      <td>26.0</td>\n",
       "      <td>1</td>\n",
       "    </tr>\n",
       "    <tr>\n",
       "      <th>8</th>\n",
       "      <td>35.0</td>\n",
       "      <td>1</td>\n",
       "    </tr>\n",
       "    <tr>\n",
       "      <th>7</th>\n",
       "      <td>36.0</td>\n",
       "      <td>1</td>\n",
       "    </tr>\n",
       "  </tbody>\n",
       "</table>\n",
       "</div>"
      ],
      "text/plain": [
       "    index  Tage\n",
       "3     6.0     2\n",
       "0     7.0     5\n",
       "10    8.0     1\n",
       "9     9.0     1\n",
       "2    10.0     3\n",
       "4    11.0     2\n",
       "1    14.0     4\n",
       "5    15.0     1\n",
       "12   19.0     1\n",
       "11   22.0     1\n",
       "6    26.0     1\n",
       "8    35.0     1\n",
       "7    36.0     1"
      ]
     },
     "execution_count": 27,
     "metadata": {},
     "output_type": "execute_result"
    }
   ],
   "source": [
    "bookings_this_year['Tage'].value_counts().reset_index().sort_values('index')"
   ]
  },
  {
   "cell_type": "code",
   "execution_count": null,
   "metadata": {},
   "outputs": [],
   "source": []
  },
  {
   "cell_type": "code",
   "execution_count": null,
   "metadata": {},
   "outputs": [],
   "source": []
  }
 ],
 "metadata": {
  "kernelspec": {
   "display_name": "Python 3.10.6 ('capstoneenv')",
   "language": "python",
   "name": "python3"
  },
  "language_info": {
   "codemirror_mode": {
    "name": "ipython",
    "version": 3
   },
   "file_extension": ".py",
   "mimetype": "text/x-python",
   "name": "python",
   "nbconvert_exporter": "python",
   "pygments_lexer": "ipython3",
   "version": "3.10.6"
  },
  "orig_nbformat": 4,
  "vscode": {
   "interpreter": {
    "hash": "fed43211bc253efdb5d7fa0232daae4698b2ceb3dad0e0df42312da65a5331fe"
   }
  }
 },
 "nbformat": 4,
 "nbformat_minor": 2
}
